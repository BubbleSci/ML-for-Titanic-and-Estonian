{
 "cells": [
  {
   "cell_type": "code",
   "execution_count": 1,
   "id": "7d4f9a6a-d93f-4d75-a2a5-2afef1b84ad3",
   "metadata": {},
   "outputs": [],
   "source": [
    "import pandas as pd"
   ]
  },
  {
   "cell_type": "code",
   "execution_count": 2,
   "id": "e049ce4b-a969-4e70-9bf5-af442ef32d2e",
   "metadata": {},
   "outputs": [],
   "source": [
    "import numpy as np"
   ]
  },
  {
   "cell_type": "code",
   "execution_count": 3,
   "id": "4c919991-8ac1-472c-bf32-4a9b365faa86",
   "metadata": {},
   "outputs": [],
   "source": [
    "import matplotlib.pyplot as plt\n",
    "import matplotlib"
   ]
  },
  {
   "cell_type": "code",
   "execution_count": 4,
   "id": "b052d6de-a1a3-4a73-9a83-06edd009febc",
   "metadata": {},
   "outputs": [],
   "source": [
    "matplotlib.rcParams['font.sans-serif'] = ['Arial Unicode MS']\n",
    "matplotlib.rcParams['axes.unicode_minus'] = False #setting fonts"
   ]
  },
  {
   "cell_type": "code",
   "execution_count": 5,
   "id": "38ae0719-37e7-4ad5-af52-31ac896ef27f",
   "metadata": {},
   "outputs": [],
   "source": [
    "train = pd.read_csv('train.csv')"
   ]
  },
  {
   "cell_type": "code",
   "execution_count": 6,
   "id": "32395791-43da-4006-bb3b-9d773d730414",
   "metadata": {},
   "outputs": [],
   "source": [
    "test = pd.read_csv('test.csv')"
   ]
  },
  {
   "cell_type": "code",
   "execution_count": 7,
   "id": "f4f1be67-c4f5-4800-927b-7cac8ceb1e5e",
   "metadata": {},
   "outputs": [
    {
     "data": {
      "text/html": [
       "<div>\n",
       "<style scoped>\n",
       "    .dataframe tbody tr th:only-of-type {\n",
       "        vertical-align: middle;\n",
       "    }\n",
       "\n",
       "    .dataframe tbody tr th {\n",
       "        vertical-align: top;\n",
       "    }\n",
       "\n",
       "    .dataframe thead th {\n",
       "        text-align: right;\n",
       "    }\n",
       "</style>\n",
       "<table border=\"1\" class=\"dataframe\">\n",
       "  <thead>\n",
       "    <tr style=\"text-align: right;\">\n",
       "      <th></th>\n",
       "      <th>PassengerId</th>\n",
       "      <th>Survived</th>\n",
       "      <th>Pclass</th>\n",
       "      <th>Name</th>\n",
       "      <th>Sex</th>\n",
       "      <th>Age</th>\n",
       "      <th>SibSp</th>\n",
       "      <th>Parch</th>\n",
       "      <th>Ticket</th>\n",
       "      <th>Fare</th>\n",
       "      <th>Cabin</th>\n",
       "      <th>Embarked</th>\n",
       "    </tr>\n",
       "  </thead>\n",
       "  <tbody>\n",
       "    <tr>\n",
       "      <th>0</th>\n",
       "      <td>1</td>\n",
       "      <td>0</td>\n",
       "      <td>3</td>\n",
       "      <td>Braund, Mr. Owen Harris</td>\n",
       "      <td>male</td>\n",
       "      <td>22.0</td>\n",
       "      <td>1</td>\n",
       "      <td>0</td>\n",
       "      <td>A/5 21171</td>\n",
       "      <td>7.2500</td>\n",
       "      <td>NaN</td>\n",
       "      <td>S</td>\n",
       "    </tr>\n",
       "    <tr>\n",
       "      <th>1</th>\n",
       "      <td>2</td>\n",
       "      <td>1</td>\n",
       "      <td>1</td>\n",
       "      <td>Cumings, Mrs. John Bradley (Florence Briggs Th...</td>\n",
       "      <td>female</td>\n",
       "      <td>38.0</td>\n",
       "      <td>1</td>\n",
       "      <td>0</td>\n",
       "      <td>PC 17599</td>\n",
       "      <td>71.2833</td>\n",
       "      <td>C85</td>\n",
       "      <td>C</td>\n",
       "    </tr>\n",
       "    <tr>\n",
       "      <th>2</th>\n",
       "      <td>3</td>\n",
       "      <td>1</td>\n",
       "      <td>3</td>\n",
       "      <td>Heikkinen, Miss. Laina</td>\n",
       "      <td>female</td>\n",
       "      <td>26.0</td>\n",
       "      <td>0</td>\n",
       "      <td>0</td>\n",
       "      <td>STON/O2. 3101282</td>\n",
       "      <td>7.9250</td>\n",
       "      <td>NaN</td>\n",
       "      <td>S</td>\n",
       "    </tr>\n",
       "    <tr>\n",
       "      <th>3</th>\n",
       "      <td>4</td>\n",
       "      <td>1</td>\n",
       "      <td>1</td>\n",
       "      <td>Futrelle, Mrs. Jacques Heath (Lily May Peel)</td>\n",
       "      <td>female</td>\n",
       "      <td>35.0</td>\n",
       "      <td>1</td>\n",
       "      <td>0</td>\n",
       "      <td>113803</td>\n",
       "      <td>53.1000</td>\n",
       "      <td>C123</td>\n",
       "      <td>S</td>\n",
       "    </tr>\n",
       "    <tr>\n",
       "      <th>4</th>\n",
       "      <td>5</td>\n",
       "      <td>0</td>\n",
       "      <td>3</td>\n",
       "      <td>Allen, Mr. William Henry</td>\n",
       "      <td>male</td>\n",
       "      <td>35.0</td>\n",
       "      <td>0</td>\n",
       "      <td>0</td>\n",
       "      <td>373450</td>\n",
       "      <td>8.0500</td>\n",
       "      <td>NaN</td>\n",
       "      <td>S</td>\n",
       "    </tr>\n",
       "  </tbody>\n",
       "</table>\n",
       "</div>"
      ],
      "text/plain": [
       "   PassengerId  Survived  Pclass  \\\n",
       "0            1         0       3   \n",
       "1            2         1       1   \n",
       "2            3         1       3   \n",
       "3            4         1       1   \n",
       "4            5         0       3   \n",
       "\n",
       "                                                Name     Sex   Age  SibSp  \\\n",
       "0                            Braund, Mr. Owen Harris    male  22.0      1   \n",
       "1  Cumings, Mrs. John Bradley (Florence Briggs Th...  female  38.0      1   \n",
       "2                             Heikkinen, Miss. Laina  female  26.0      0   \n",
       "3       Futrelle, Mrs. Jacques Heath (Lily May Peel)  female  35.0      1   \n",
       "4                           Allen, Mr. William Henry    male  35.0      0   \n",
       "\n",
       "   Parch            Ticket     Fare Cabin Embarked  \n",
       "0      0         A/5 21171   7.2500   NaN        S  \n",
       "1      0          PC 17599  71.2833   C85        C  \n",
       "2      0  STON/O2. 3101282   7.9250   NaN        S  \n",
       "3      0            113803  53.1000  C123        S  \n",
       "4      0            373450   8.0500   NaN        S  "
      ]
     },
     "execution_count": 7,
     "metadata": {},
     "output_type": "execute_result"
    }
   ],
   "source": [
    "train.head()"
   ]
  },
  {
   "cell_type": "code",
   "execution_count": 8,
   "id": "0caf6b39-f53a-421f-8576-8f7354654945",
   "metadata": {},
   "outputs": [
    {
     "name": "stdout",
     "output_type": "stream",
     "text": [
      "<class 'pandas.core.frame.DataFrame'>\n",
      "RangeIndex: 891 entries, 0 to 890\n",
      "Data columns (total 12 columns):\n",
      " #   Column       Non-Null Count  Dtype  \n",
      "---  ------       --------------  -----  \n",
      " 0   PassengerId  891 non-null    int64  \n",
      " 1   Survived     891 non-null    int64  \n",
      " 2   Pclass       891 non-null    int64  \n",
      " 3   Name         891 non-null    object \n",
      " 4   Sex          891 non-null    object \n",
      " 5   Age          714 non-null    float64\n",
      " 6   SibSp        891 non-null    int64  \n",
      " 7   Parch        891 non-null    int64  \n",
      " 8   Ticket       891 non-null    object \n",
      " 9   Fare         891 non-null    float64\n",
      " 10  Cabin        204 non-null    object \n",
      " 11  Embarked     889 non-null    object \n",
      "dtypes: float64(2), int64(5), object(5)\n",
      "memory usage: 83.7+ KB\n"
     ]
    }
   ],
   "source": [
    "train.info()"
   ]
  },
  {
   "cell_type": "code",
   "execution_count": 9,
   "id": "a4e5cd3b-3cab-4fab-8e98-1b91a22d816c",
   "metadata": {},
   "outputs": [
    {
     "name": "stdout",
     "output_type": "stream",
     "text": [
      "merged dataset: (1309, 12)\n"
     ]
    }
   ],
   "source": [
    "full = pd.concat([train, test], ignore_index=True)\n",
    "print('merged dataset:', full.shape) #merging train and test dataset"
   ]
  },
  {
   "cell_type": "code",
   "execution_count": 10,
   "id": "dbab7a04-28ba-4249-93d1-d09f51bcff9f",
   "metadata": {},
   "outputs": [
    {
     "name": "stdout",
     "output_type": "stream",
     "text": [
      "<class 'pandas.core.frame.DataFrame'>\n",
      "RangeIndex: 1309 entries, 0 to 1308\n",
      "Data columns (total 12 columns):\n",
      " #   Column       Non-Null Count  Dtype  \n",
      "---  ------       --------------  -----  \n",
      " 0   PassengerId  1309 non-null   int64  \n",
      " 1   Survived     891 non-null    float64\n",
      " 2   Pclass       1309 non-null   int64  \n",
      " 3   Name         1309 non-null   object \n",
      " 4   Sex          1309 non-null   object \n",
      " 5   Age          1046 non-null   float64\n",
      " 6   SibSp        1309 non-null   int64  \n",
      " 7   Parch        1309 non-null   int64  \n",
      " 8   Ticket       1309 non-null   object \n",
      " 9   Fare         1308 non-null   float64\n",
      " 10  Cabin        295 non-null    object \n",
      " 11  Embarked     1307 non-null   object \n",
      "dtypes: float64(3), int64(4), object(5)\n",
      "memory usage: 122.8+ KB\n"
     ]
    }
   ],
   "source": [
    "full.info()"
   ]
  },
  {
   "cell_type": "code",
   "execution_count": 11,
   "id": "d2bdcb74-4efe-4825-b241-bfb92e89ff07",
   "metadata": {},
   "outputs": [
    {
     "name": "stdout",
     "output_type": "stream",
     "text": [
      "<class 'pandas.core.frame.DataFrame'>\n",
      "RangeIndex: 1309 entries, 0 to 1308\n",
      "Data columns (total 12 columns):\n",
      " #   Column       Non-Null Count  Dtype  \n",
      "---  ------       --------------  -----  \n",
      " 0   PassengerId  1309 non-null   int64  \n",
      " 1   Survived     891 non-null    float64\n",
      " 2   Pclass       1309 non-null   int64  \n",
      " 3   Name         1309 non-null   object \n",
      " 4   Sex          1309 non-null   object \n",
      " 5   Age          1046 non-null   float64\n",
      " 6   SibSp        1309 non-null   int64  \n",
      " 7   Parch        1309 non-null   int64  \n",
      " 8   Ticket       1309 non-null   object \n",
      " 9   Fare         1308 non-null   float64\n",
      " 10  Cabin        295 non-null    object \n",
      " 11  Embarked     1307 non-null   object \n",
      "dtypes: float64(3), int64(4), object(5)\n",
      "memory usage: 122.8+ KB\n"
     ]
    }
   ],
   "source": [
    "full.info()"
   ]
  },
  {
   "cell_type": "code",
   "execution_count": 12,
   "id": "deda9d38-ac8f-4048-b7ff-06dc61217bda",
   "metadata": {},
   "outputs": [
    {
     "data": {
      "text/html": [
       "<div>\n",
       "<style scoped>\n",
       "    .dataframe tbody tr th:only-of-type {\n",
       "        vertical-align: middle;\n",
       "    }\n",
       "\n",
       "    .dataframe tbody tr th {\n",
       "        vertical-align: top;\n",
       "    }\n",
       "\n",
       "    .dataframe thead th {\n",
       "        text-align: right;\n",
       "    }\n",
       "</style>\n",
       "<table border=\"1\" class=\"dataframe\">\n",
       "  <thead>\n",
       "    <tr style=\"text-align: right;\">\n",
       "      <th></th>\n",
       "      <th>PassengerId</th>\n",
       "      <th>Survived</th>\n",
       "      <th>Pclass</th>\n",
       "      <th>Age</th>\n",
       "      <th>SibSp</th>\n",
       "      <th>Parch</th>\n",
       "      <th>Fare</th>\n",
       "    </tr>\n",
       "  </thead>\n",
       "  <tbody>\n",
       "    <tr>\n",
       "      <th>count</th>\n",
       "      <td>1309.000000</td>\n",
       "      <td>891.000000</td>\n",
       "      <td>1309.000000</td>\n",
       "      <td>1046.000000</td>\n",
       "      <td>1309.000000</td>\n",
       "      <td>1309.000000</td>\n",
       "      <td>1308.000000</td>\n",
       "    </tr>\n",
       "    <tr>\n",
       "      <th>mean</th>\n",
       "      <td>655.000000</td>\n",
       "      <td>0.383838</td>\n",
       "      <td>2.294882</td>\n",
       "      <td>29.881138</td>\n",
       "      <td>0.498854</td>\n",
       "      <td>0.385027</td>\n",
       "      <td>33.295479</td>\n",
       "    </tr>\n",
       "    <tr>\n",
       "      <th>std</th>\n",
       "      <td>378.020061</td>\n",
       "      <td>0.486592</td>\n",
       "      <td>0.837836</td>\n",
       "      <td>14.413493</td>\n",
       "      <td>1.041658</td>\n",
       "      <td>0.865560</td>\n",
       "      <td>51.758668</td>\n",
       "    </tr>\n",
       "    <tr>\n",
       "      <th>min</th>\n",
       "      <td>1.000000</td>\n",
       "      <td>0.000000</td>\n",
       "      <td>1.000000</td>\n",
       "      <td>0.170000</td>\n",
       "      <td>0.000000</td>\n",
       "      <td>0.000000</td>\n",
       "      <td>0.000000</td>\n",
       "    </tr>\n",
       "    <tr>\n",
       "      <th>25%</th>\n",
       "      <td>328.000000</td>\n",
       "      <td>0.000000</td>\n",
       "      <td>2.000000</td>\n",
       "      <td>21.000000</td>\n",
       "      <td>0.000000</td>\n",
       "      <td>0.000000</td>\n",
       "      <td>7.895800</td>\n",
       "    </tr>\n",
       "    <tr>\n",
       "      <th>50%</th>\n",
       "      <td>655.000000</td>\n",
       "      <td>0.000000</td>\n",
       "      <td>3.000000</td>\n",
       "      <td>28.000000</td>\n",
       "      <td>0.000000</td>\n",
       "      <td>0.000000</td>\n",
       "      <td>14.454200</td>\n",
       "    </tr>\n",
       "    <tr>\n",
       "      <th>75%</th>\n",
       "      <td>982.000000</td>\n",
       "      <td>1.000000</td>\n",
       "      <td>3.000000</td>\n",
       "      <td>39.000000</td>\n",
       "      <td>1.000000</td>\n",
       "      <td>0.000000</td>\n",
       "      <td>31.275000</td>\n",
       "    </tr>\n",
       "    <tr>\n",
       "      <th>max</th>\n",
       "      <td>1309.000000</td>\n",
       "      <td>1.000000</td>\n",
       "      <td>3.000000</td>\n",
       "      <td>80.000000</td>\n",
       "      <td>8.000000</td>\n",
       "      <td>9.000000</td>\n",
       "      <td>512.329200</td>\n",
       "    </tr>\n",
       "  </tbody>\n",
       "</table>\n",
       "</div>"
      ],
      "text/plain": [
       "       PassengerId    Survived       Pclass          Age        SibSp  \\\n",
       "count  1309.000000  891.000000  1309.000000  1046.000000  1309.000000   \n",
       "mean    655.000000    0.383838     2.294882    29.881138     0.498854   \n",
       "std     378.020061    0.486592     0.837836    14.413493     1.041658   \n",
       "min       1.000000    0.000000     1.000000     0.170000     0.000000   \n",
       "25%     328.000000    0.000000     2.000000    21.000000     0.000000   \n",
       "50%     655.000000    0.000000     3.000000    28.000000     0.000000   \n",
       "75%     982.000000    1.000000     3.000000    39.000000     1.000000   \n",
       "max    1309.000000    1.000000     3.000000    80.000000     8.000000   \n",
       "\n",
       "             Parch         Fare  \n",
       "count  1309.000000  1308.000000  \n",
       "mean      0.385027    33.295479  \n",
       "std       0.865560    51.758668  \n",
       "min       0.000000     0.000000  \n",
       "25%       0.000000     7.895800  \n",
       "50%       0.000000    14.454200  \n",
       "75%       0.000000    31.275000  \n",
       "max       9.000000   512.329200  "
      ]
     },
     "execution_count": 12,
     "metadata": {},
     "output_type": "execute_result"
    }
   ],
   "source": [
    "full.describe() #describe dataset- to find missing value"
   ]
  },
  {
   "cell_type": "code",
   "execution_count": 13,
   "id": "266263f0-cea4-412c-8660-b0b3c0b54a64",
   "metadata": {},
   "outputs": [],
   "source": [
    "full['Age']=full['Age'].fillna(full['Age'].mean())#Filling in missing values"
   ]
  },
  {
   "cell_type": "code",
   "execution_count": 14,
   "id": "dd41759d-a207-473f-a683-841259fedea9",
   "metadata": {},
   "outputs": [],
   "source": [
    "full['Fare'] = full['Fare'].fillna( full['Fare'].mean() )"
   ]
  },
  {
   "cell_type": "code",
   "execution_count": 15,
   "id": "dd31ea61-f712-45c8-8529-8d9f37c8982a",
   "metadata": {},
   "outputs": [
    {
     "data": {
      "image/png": "[encoded data removed]",
      "text/plain": [
       "<Figure size 640x480 with 1 Axes>"
      ]
     },
     "metadata": {},
     "output_type": "display_data"
    }
   ],
   "source": [
    "a=full['Embarked'].value_counts()\n",
    "a.plot.bar(color='black')\n",
    "full['Embarked']=full['Embarked'].fillna('S')"
   ]
  },
  {
   "cell_type": "code",
   "execution_count": 16,
   "id": "853f0b6d-841e-43e1-9448-4903f296b18b",
   "metadata": {},
   "outputs": [
    {
     "data": {
      "text/plain": [
       "0     NaN\n",
       "1     C85\n",
       "2     NaN\n",
       "3    C123\n",
       "4     NaN\n",
       "Name: Cabin, dtype: object"
      ]
     },
     "execution_count": 16,
     "metadata": {},
     "output_type": "execute_result"
    }
   ],
   "source": [
    "full['Cabin'].head()"
   ]
  },
  {
   "cell_type": "code",
   "execution_count": 17,
   "id": "08771d33-675b-4606-ae33-a49496c6818f",
   "metadata": {},
   "outputs": [],
   "source": [
    "full['Cabin'] = full['Cabin'].fillna('U') #Replace missing values in cabin with the string U"
   ]
  },
  {
   "cell_type": "code",
   "execution_count": 18,
   "id": "ea524a36-a224-41e7-8c9c-d46183dfb132",
   "metadata": {},
   "outputs": [
    {
     "data": {
      "text/plain": [
       "<Figure size 640x480 with 0 Axes>"
      ]
     },
     "metadata": {},
     "output_type": "display_data"
    }
   ],
   "source": [
    "fig = plt.figure()\n",
    "Survived_cabin = train.Survived[pd.notnull(full.Cabin)].value_counts()\n",
    "Survived_nocabin = train.Survived[pd.isnull(full.Cabin)].value_counts()"
   ]
  },
  {
   "cell_type": "code",
   "execution_count": 19,
   "id": "fed2cfe9-2b1d-4f7d-9bd6-84b0c9824e22",
   "metadata": {},
   "outputs": [
    {
     "data": {
      "text/plain": [
       "Text(0.5, 1.0, 'Percentage of cabin')"
      ]
     },
     "execution_count": 19,
     "metadata": {},
     "output_type": "execute_result"
    },
    {
     "data": {
      "image/png": "[encoded data removed]",
      "text/plain": [
       "<Figure size 500x500 with 1 Axes>"
      ]
     },
     "metadata": {},
     "output_type": "display_data"
    }
   ],
   "source": [
    "plt.rc('font',family='Arial',size=12)#font\n",
    "fig=plt.figure(figsize=(5,5))\n",
    "ax1=fig.add_subplot(1,1,1)\n",
    "labels=['accident','survive']\n",
    "colors=['#03A2FF','#64C8FF']\n",
    "ax1.pie(Survived_cabin,labels=labels,colors=colors,startangle=90,autopct='%1.1f%%')\n",
    "ax1.set_title('Percentage of cabin')"
   ]
  },
  {
   "cell_type": "code",
   "execution_count": 20,
   "id": "1f938295-1419-4bd0-bbc0-00d35e49b8d0",
   "metadata": {},
   "outputs": [],
   "source": [
    "def getTitle(name):\n",
    "    str1=name.split(',')[1]#Mr.Owen Harris\n",
    "    str2=str1.split('.')[0]#Mr\n",
    "    #The strip() method is used to remove the beginning and end of the string (defaults to spaces)\n",
    "    str3=str2.strip()\n",
    "    return str3\n",
    "#Storing the extracted features\n",
    "titleDf=pd.DataFrame()\n",
    "#map function: applies a custom function to each of the data in the Series.\n",
    "titleDf['Title']=full['Name'].map(getTitle)\n",
    "titleDf.head()\n",
    "#Mapping of title strings in names to defined title categories\n",
    "title_mapDict={\n",
    "                'Capt':        'Officer',\n",
    "                'Col':         'Officer',\n",
    "                'Major':       'Officer',\n",
    "                'Jonkheer':    'Royalty',\n",
    "                'Don':         'Royalty',\n",
    "                'Sir':         'Royalty',\n",
    "                'Dr':          'Officer',\n",
    "                'Rev':         'Officer',\n",
    "                'the Countess': 'Royalty',\n",
    "                'Dona':         'Royalty',\n",
    "                'Mme':          'Mrs',\n",
    "                'Mlle':         'Miss',\n",
    "                'Ms':           'Mrs',\n",
    "                'Mr':           'Mr',\n",
    "                'Mrs':          'Mrs',\n",
    "                'Miss':         'Miss',\n",
    "                'Master':       'Master',\n",
    "                'Lady':         'Royalty'}\n",
    "titleDf['Title']=titleDf['Title'].map(title_mapDict)"
   ]
  },
  {
   "cell_type": "code",
   "execution_count": 21,
   "id": "055bd496-93f3-4608-9a16-0202ad1f2dea",
   "metadata": {},
   "outputs": [
    {
     "data": {
      "text/html": [
       "<div>\n",
       "<style scoped>\n",
       "    .dataframe tbody tr th:only-of-type {\n",
       "        vertical-align: middle;\n",
       "    }\n",
       "\n",
       "    .dataframe tbody tr th {\n",
       "        vertical-align: top;\n",
       "    }\n",
       "\n",
       "    .dataframe thead th {\n",
       "        text-align: right;\n",
       "    }\n",
       "</style>\n",
       "<table border=\"1\" class=\"dataframe\">\n",
       "  <thead>\n",
       "    <tr style=\"text-align: right;\">\n",
       "      <th></th>\n",
       "      <th>Title</th>\n",
       "    </tr>\n",
       "  </thead>\n",
       "  <tbody>\n",
       "    <tr>\n",
       "      <th>0</th>\n",
       "      <td>Mr</td>\n",
       "    </tr>\n",
       "    <tr>\n",
       "      <th>1</th>\n",
       "      <td>Mrs</td>\n",
       "    </tr>\n",
       "    <tr>\n",
       "      <th>2</th>\n",
       "      <td>Miss</td>\n",
       "    </tr>\n",
       "    <tr>\n",
       "      <th>3</th>\n",
       "      <td>Mrs</td>\n",
       "    </tr>\n",
       "    <tr>\n",
       "      <th>4</th>\n",
       "      <td>Mr</td>\n",
       "    </tr>\n",
       "  </tbody>\n",
       "</table>\n",
       "</div>"
      ],
      "text/plain": [
       "  Title\n",
       "0    Mr\n",
       "1   Mrs\n",
       "2  Miss\n",
       "3   Mrs\n",
       "4    Mr"
      ]
     },
     "execution_count": 21,
     "metadata": {},
     "output_type": "execute_result"
    }
   ],
   "source": [
    "titleDf.head()"
   ]
  },
  {
   "cell_type": "code",
   "execution_count": 22,
   "id": "5a0aa22e-fecd-4132-9b65-03b979a64d5e",
   "metadata": {},
   "outputs": [],
   "source": [
    "full=pd.concat([full,titleDf],axis=1)"
   ]
  },
  {
   "cell_type": "code",
   "execution_count": 23,
   "id": "6f6946d3-d238-4276-a1d9-777ab0953527",
   "metadata": {},
   "outputs": [
    {
     "data": {
      "text/html": [
       "<div>\n",
       "<style scoped>\n",
       "    .dataframe tbody tr th:only-of-type {\n",
       "        vertical-align: middle;\n",
       "    }\n",
       "\n",
       "    .dataframe tbody tr th {\n",
       "        vertical-align: top;\n",
       "    }\n",
       "\n",
       "    .dataframe thead th {\n",
       "        text-align: right;\n",
       "    }\n",
       "</style>\n",
       "<table border=\"1\" class=\"dataframe\">\n",
       "  <thead>\n",
       "    <tr style=\"text-align: right;\">\n",
       "      <th></th>\n",
       "      <th>PassengerId</th>\n",
       "      <th>Survived</th>\n",
       "      <th>Pclass</th>\n",
       "      <th>Name</th>\n",
       "      <th>Sex</th>\n",
       "      <th>Age</th>\n",
       "      <th>SibSp</th>\n",
       "      <th>Parch</th>\n",
       "      <th>Ticket</th>\n",
       "      <th>Fare</th>\n",
       "      <th>Cabin</th>\n",
       "      <th>Embarked</th>\n",
       "      <th>Title</th>\n",
       "    </tr>\n",
       "  </thead>\n",
       "  <tbody>\n",
       "    <tr>\n",
       "      <th>0</th>\n",
       "      <td>1</td>\n",
       "      <td>0.0</td>\n",
       "      <td>3</td>\n",
       "      <td>Braund, Mr. Owen Harris</td>\n",
       "      <td>male</td>\n",
       "      <td>22.0</td>\n",
       "      <td>1</td>\n",
       "      <td>0</td>\n",
       "      <td>A/5 21171</td>\n",
       "      <td>7.2500</td>\n",
       "      <td>U</td>\n",
       "      <td>S</td>\n",
       "      <td>Mr</td>\n",
       "    </tr>\n",
       "    <tr>\n",
       "      <th>1</th>\n",
       "      <td>2</td>\n",
       "      <td>1.0</td>\n",
       "      <td>1</td>\n",
       "      <td>Cumings, Mrs. John Bradley (Florence Briggs Th...</td>\n",
       "      <td>female</td>\n",
       "      <td>38.0</td>\n",
       "      <td>1</td>\n",
       "      <td>0</td>\n",
       "      <td>PC 17599</td>\n",
       "      <td>71.2833</td>\n",
       "      <td>C85</td>\n",
       "      <td>C</td>\n",
       "      <td>Mrs</td>\n",
       "    </tr>\n",
       "    <tr>\n",
       "      <th>2</th>\n",
       "      <td>3</td>\n",
       "      <td>1.0</td>\n",
       "      <td>3</td>\n",
       "      <td>Heikkinen, Miss. Laina</td>\n",
       "      <td>female</td>\n",
       "      <td>26.0</td>\n",
       "      <td>0</td>\n",
       "      <td>0</td>\n",
       "      <td>STON/O2. 3101282</td>\n",
       "      <td>7.9250</td>\n",
       "      <td>U</td>\n",
       "      <td>S</td>\n",
       "      <td>Miss</td>\n",
       "    </tr>\n",
       "    <tr>\n",
       "      <th>3</th>\n",
       "      <td>4</td>\n",
       "      <td>1.0</td>\n",
       "      <td>1</td>\n",
       "      <td>Futrelle, Mrs. Jacques Heath (Lily May Peel)</td>\n",
       "      <td>female</td>\n",
       "      <td>35.0</td>\n",
       "      <td>1</td>\n",
       "      <td>0</td>\n",
       "      <td>113803</td>\n",
       "      <td>53.1000</td>\n",
       "      <td>C123</td>\n",
       "      <td>S</td>\n",
       "      <td>Mrs</td>\n",
       "    </tr>\n",
       "    <tr>\n",
       "      <th>4</th>\n",
       "      <td>5</td>\n",
       "      <td>0.0</td>\n",
       "      <td>3</td>\n",
       "      <td>Allen, Mr. William Henry</td>\n",
       "      <td>male</td>\n",
       "      <td>35.0</td>\n",
       "      <td>0</td>\n",
       "      <td>0</td>\n",
       "      <td>373450</td>\n",
       "      <td>8.0500</td>\n",
       "      <td>U</td>\n",
       "      <td>S</td>\n",
       "      <td>Mr</td>\n",
       "    </tr>\n",
       "  </tbody>\n",
       "</table>\n",
       "</div>"
      ],
      "text/plain": [
       "   PassengerId  Survived  Pclass  \\\n",
       "0            1       0.0       3   \n",
       "1            2       1.0       1   \n",
       "2            3       1.0       3   \n",
       "3            4       1.0       1   \n",
       "4            5       0.0       3   \n",
       "\n",
       "                                                Name     Sex   Age  SibSp  \\\n",
       "0                            Braund, Mr. Owen Harris    male  22.0      1   \n",
       "1  Cumings, Mrs. John Bradley (Florence Briggs Th...  female  38.0      1   \n",
       "2                             Heikkinen, Miss. Laina  female  26.0      0   \n",
       "3       Futrelle, Mrs. Jacques Heath (Lily May Peel)  female  35.0      1   \n",
       "4                           Allen, Mr. William Henry    male  35.0      0   \n",
       "\n",
       "   Parch            Ticket     Fare Cabin Embarked Title  \n",
       "0      0         A/5 21171   7.2500     U        S    Mr  \n",
       "1      0          PC 17599  71.2833   C85        C   Mrs  \n",
       "2      0  STON/O2. 3101282   7.9250     U        S  Miss  \n",
       "3      0            113803  53.1000  C123        S   Mrs  \n",
       "4      0            373450   8.0500     U        S    Mr  "
      ]
     },
     "execution_count": 23,
     "metadata": {},
     "output_type": "execute_result"
    }
   ],
   "source": [
    "full.head()"
   ]
  },
  {
   "cell_type": "code",
   "execution_count": 24,
   "id": "8851b6a0-5a24-4e59-b076-d6c18e07509e",
   "metadata": {},
   "outputs": [],
   "source": [
    "def survived_rate1(string):\n",
    "    survivedRate = full.groupby([string, 'Survived']).Survived.count().unstack()\n",
    "    survivedRate['Total'] = survivedRate[0].values + survivedRate[1].values\n",
    "    survivedRate['Rate Survived'] = survivedRate[1].values / survivedRate['Total'].values\n",
    "    \n",
    "    survivedRate = survivedRate.sort_values(by='Rate Survived', ascending=True)\n",
    "    \n",
    "    \n",
    "    survivedRate = survivedRate.fillna(0)\n",
    "    survivedRate.rename(columns={0: \"die\", 1: \"survived\"}, inplace=True)\n",
    "    \n",
    "    # create object of chart\n",
    "    fig = plt.figure(figsize=(6, 6))\n",
    "    \n",
    "    survivedRate[[\"die\", \"survived\"]].plot(kind=\"barh\", stacked=True, color=[\"k\", \"g\"])\n",
    "    plt.grid(axis=\"x\", ls=\"-\")\n",
    "    plt.ylabel(string, fontsize=15)\n",
    "    plt.xlabel(\"Number\", fontsize=15)"
   ]
  },
  {
   "cell_type": "code",
   "execution_count": 25,
   "id": "a2267a50-c625-47fd-8932-259b7e8975e1",
   "metadata": {},
   "outputs": [
    {
     "data": {
      "text/plain": [
       "<Figure size 600x600 with 0 Axes>"
      ]
     },
     "metadata": {},
     "output_type": "display_data"
    },
    {
     "data": {
      "image/png": "[encoded data removed]",
      "text/plain": [
       "<Figure size 640x480 with 1 Axes>"
      ]
     },
     "metadata": {},
     "output_type": "display_data"
    }
   ],
   "source": [
    "survived_rate1(\"Pclass\")"
   ]
  },
  {
   "cell_type": "code",
   "execution_count": 26,
   "id": "6d3c9324-5a88-4273-9c24-751cfaf92055",
   "metadata": {},
   "outputs": [],
   "source": [
    "def survived_rate2(string):\n",
    "    \n",
    "    survivedRate = full.groupby([string, 'Survived']).Survived.count().unstack()\n",
    "    survivedRate['Total'] = survivedRate[0].values + survivedRate[1].values\n",
    "    survivedRate['Rate Survived'] = survivedRate[1].values / survivedRate['Total'].values\n",
    "    \n",
    "    \n",
    "    survivedRate = survivedRate.sort_values(by='Rate Survived', ascending=True)\n",
    "    \n",
    "    \n",
    "    survivedRate = survivedRate.fillna(0)\n",
    "    survivedRate.rename(columns={0: \"die\", 1: \"survived\"}, inplace=True)\n",
    "    \n",
    "    \n",
    "    fig = plt.figure(figsize=(6,6))\n",
    "    \n",
    "    \n",
    "    survivedRate[[\"die\", \"survived\"]].plot(kind=\"line\", color=[\"b\", \"r\"])\n",
    "    \n",
    "    plt.grid(axis=\"y\", ls=\"-\")\n",
    "    plt.ylabel(\"Number of Passengers\", fontsize=15)  \n",
    "    plt.xlabel(string, fontsize=15)"
   ]
  },
  {
   "cell_type": "code",
   "execution_count": 27,
   "id": "65e24951-ab8a-417d-a215-97b74172ac1c",
   "metadata": {},
   "outputs": [
    {
     "data": {
      "text/plain": [
       "<Figure size 600x600 with 0 Axes>"
      ]
     },
     "metadata": {},
     "output_type": "display_data"
    },
    {
     "data": {
      "image/png": "[encoded data removed]",
      "text/plain": [
       "<Figure size 640x480 with 1 Axes>"
      ]
     },
     "metadata": {},
     "output_type": "display_data"
    }
   ],
   "source": [
    "survived_rate2(\"Embarked\")"
   ]
  },
  {
   "cell_type": "code",
   "execution_count": 28,
   "id": "4e66c0f8-069d-4ccb-b2a6-bcc8c0d5f849",
   "metadata": {},
   "outputs": [],
   "source": [
    "def survived_rate3(string):\n",
    "    \n",
    "    survivedRate=full.groupby([string,'Survived']).Survived.count().unstack()\n",
    "    survivedRate['Total']=survivedRate[0].values+survivedRate[1].values\n",
    "    survivedRate['Rate Survived']=survivedRate[1].values/survivedRate['Total'].values\n",
    "    \n",
    "    survivedRate=survivedRate.sort_values(by='Rate Survived',ascending=True)\n",
    "    \n",
    "    survivedRate=survivedRate.fillna(0)\n",
    "    survivedRate.rename(columns={0:\"die\",1:\"survive\"},inplace=True)\n",
    "    survivedRate[[\"die\",\"survive\"]].plot(kind=\"bar\",stacked=True,color=[\"k\",\"r\"])\n",
    "    plt.grid(axis=\"y\",ls=\"-\")\n",
    "    plt.ylabel(\"Total\",fontsize=15)\n",
    "    plt.xlabel(string,fontsize=15)\n",
    "    fig=plt.figure(figsize=(6,6))"
   ]
  },
  {
   "cell_type": "code",
   "execution_count": 29,
   "id": "da0eed0a-f9cc-4358-aa9d-cdff897044cd",
   "metadata": {},
   "outputs": [
    {
     "data": {
      "image/png": "[encoded data removed]",
      "text/plain": [
       "<Figure size 640x480 with 1 Axes>"
      ]
     },
     "metadata": {},
     "output_type": "display_data"
    },
    {
     "data": {
      "text/plain": [
       "<Figure size 600x600 with 0 Axes>"
      ]
     },
     "metadata": {},
     "output_type": "display_data"
    }
   ],
   "source": [
    "survived_rate3(\"Title\")"
   ]
  },
  {
   "cell_type": "code",
   "execution_count": 30,
   "id": "924cc39c-373a-42d8-9a63-3c4eb5333d89",
   "metadata": {},
   "outputs": [],
   "source": [
    "familyDf = pd.DataFrame()"
   ]
  },
  {
   "cell_type": "code",
   "execution_count": 31,
   "id": "ca94b9d1-9419-4278-b6aa-a8497bbbe76d",
   "metadata": {},
   "outputs": [],
   "source": [
    "familyDf['FamilySize']=full['Parch']+full['SibSp']+1"
   ]
  },
  {
   "cell_type": "code",
   "execution_count": 32,
   "id": "b83d6380-c02b-4f7a-b1d2-2154669a6f55",
   "metadata": {},
   "outputs": [
    {
     "data": {
      "text/html": [
       "<div>\n",
       "<style scoped>\n",
       "    .dataframe tbody tr th:only-of-type {\n",
       "        vertical-align: middle;\n",
       "    }\n",
       "\n",
       "    .dataframe tbody tr th {\n",
       "        vertical-align: top;\n",
       "    }\n",
       "\n",
       "    .dataframe thead th {\n",
       "        text-align: right;\n",
       "    }\n",
       "</style>\n",
       "<table border=\"1\" class=\"dataframe\">\n",
       "  <thead>\n",
       "    <tr style=\"text-align: right;\">\n",
       "      <th></th>\n",
       "      <th>FamilySize</th>\n",
       "      <th>Single</th>\n",
       "      <th>Small</th>\n",
       "      <th>Large</th>\n",
       "    </tr>\n",
       "  </thead>\n",
       "  <tbody>\n",
       "    <tr>\n",
       "      <th>0</th>\n",
       "      <td>2</td>\n",
       "      <td>0</td>\n",
       "      <td>1</td>\n",
       "      <td>0</td>\n",
       "    </tr>\n",
       "    <tr>\n",
       "      <th>1</th>\n",
       "      <td>2</td>\n",
       "      <td>0</td>\n",
       "      <td>1</td>\n",
       "      <td>0</td>\n",
       "    </tr>\n",
       "    <tr>\n",
       "      <th>2</th>\n",
       "      <td>1</td>\n",
       "      <td>1</td>\n",
       "      <td>0</td>\n",
       "      <td>0</td>\n",
       "    </tr>\n",
       "    <tr>\n",
       "      <th>3</th>\n",
       "      <td>2</td>\n",
       "      <td>0</td>\n",
       "      <td>1</td>\n",
       "      <td>0</td>\n",
       "    </tr>\n",
       "    <tr>\n",
       "      <th>4</th>\n",
       "      <td>1</td>\n",
       "      <td>1</td>\n",
       "      <td>0</td>\n",
       "      <td>0</td>\n",
       "    </tr>\n",
       "  </tbody>\n",
       "</table>\n",
       "</div>"
      ],
      "text/plain": [
       "   FamilySize  Single  Small  Large\n",
       "0           2       0      1      0\n",
       "1           2       0      1      0\n",
       "2           1       1      0      0\n",
       "3           2       0      1      0\n",
       "4           1       1      0      0"
      ]
     },
     "execution_count": 32,
     "metadata": {},
     "output_type": "execute_result"
    }
   ],
   "source": [
    "familyDf['Single']=familyDf['FamilySize'].map(lambda s : 1 if s==1 else 0)\n",
    "familyDf['Small']=familyDf['FamilySize'].map(lambda s :1 if 2<= s <= 4 else 0)\n",
    "familyDf['Large']=familyDf['FamilySize'].map(lambda s :1 if 5<= s else 0)\n",
    "familyDf.head()"
   ]
  },
  {
   "cell_type": "code",
   "execution_count": 33,
   "id": "eba14d38-97d3-4f9f-a474-eebc38ff5a31",
   "metadata": {},
   "outputs": [
    {
     "data": {
      "text/html": [
       "<div>\n",
       "<style scoped>\n",
       "    .dataframe tbody tr th:only-of-type {\n",
       "        vertical-align: middle;\n",
       "    }\n",
       "\n",
       "    .dataframe tbody tr th {\n",
       "        vertical-align: top;\n",
       "    }\n",
       "\n",
       "    .dataframe thead th {\n",
       "        text-align: right;\n",
       "    }\n",
       "</style>\n",
       "<table border=\"1\" class=\"dataframe\">\n",
       "  <thead>\n",
       "    <tr style=\"text-align: right;\">\n",
       "      <th></th>\n",
       "      <th>PassengerId</th>\n",
       "      <th>Survived</th>\n",
       "      <th>Pclass</th>\n",
       "      <th>Name</th>\n",
       "      <th>Sex</th>\n",
       "      <th>Age</th>\n",
       "      <th>SibSp</th>\n",
       "      <th>Parch</th>\n",
       "      <th>Ticket</th>\n",
       "      <th>Fare</th>\n",
       "      <th>Cabin</th>\n",
       "      <th>Embarked</th>\n",
       "    </tr>\n",
       "  </thead>\n",
       "  <tbody>\n",
       "    <tr>\n",
       "      <th>0</th>\n",
       "      <td>1</td>\n",
       "      <td>0</td>\n",
       "      <td>3</td>\n",
       "      <td>Braund, Mr. Owen Harris</td>\n",
       "      <td>male</td>\n",
       "      <td>22.0</td>\n",
       "      <td>1</td>\n",
       "      <td>0</td>\n",
       "      <td>A/5 21171</td>\n",
       "      <td>7.2500</td>\n",
       "      <td>NaN</td>\n",
       "      <td>S</td>\n",
       "    </tr>\n",
       "    <tr>\n",
       "      <th>1</th>\n",
       "      <td>2</td>\n",
       "      <td>1</td>\n",
       "      <td>1</td>\n",
       "      <td>Cumings, Mrs. John Bradley (Florence Briggs Th...</td>\n",
       "      <td>female</td>\n",
       "      <td>38.0</td>\n",
       "      <td>1</td>\n",
       "      <td>0</td>\n",
       "      <td>PC 17599</td>\n",
       "      <td>71.2833</td>\n",
       "      <td>C85</td>\n",
       "      <td>C</td>\n",
       "    </tr>\n",
       "    <tr>\n",
       "      <th>2</th>\n",
       "      <td>3</td>\n",
       "      <td>1</td>\n",
       "      <td>3</td>\n",
       "      <td>Heikkinen, Miss. Laina</td>\n",
       "      <td>female</td>\n",
       "      <td>26.0</td>\n",
       "      <td>0</td>\n",
       "      <td>0</td>\n",
       "      <td>STON/O2. 3101282</td>\n",
       "      <td>7.9250</td>\n",
       "      <td>NaN</td>\n",
       "      <td>S</td>\n",
       "    </tr>\n",
       "    <tr>\n",
       "      <th>3</th>\n",
       "      <td>4</td>\n",
       "      <td>1</td>\n",
       "      <td>1</td>\n",
       "      <td>Futrelle, Mrs. Jacques Heath (Lily May Peel)</td>\n",
       "      <td>female</td>\n",
       "      <td>35.0</td>\n",
       "      <td>1</td>\n",
       "      <td>0</td>\n",
       "      <td>113803</td>\n",
       "      <td>53.1000</td>\n",
       "      <td>C123</td>\n",
       "      <td>S</td>\n",
       "    </tr>\n",
       "    <tr>\n",
       "      <th>4</th>\n",
       "      <td>5</td>\n",
       "      <td>0</td>\n",
       "      <td>3</td>\n",
       "      <td>Allen, Mr. William Henry</td>\n",
       "      <td>male</td>\n",
       "      <td>35.0</td>\n",
       "      <td>0</td>\n",
       "      <td>0</td>\n",
       "      <td>373450</td>\n",
       "      <td>8.0500</td>\n",
       "      <td>NaN</td>\n",
       "      <td>S</td>\n",
       "    </tr>\n",
       "  </tbody>\n",
       "</table>\n",
       "</div>"
      ],
      "text/plain": [
       "   PassengerId  Survived  Pclass  \\\n",
       "0            1         0       3   \n",
       "1            2         1       1   \n",
       "2            3         1       3   \n",
       "3            4         1       1   \n",
       "4            5         0       3   \n",
       "\n",
       "                                                Name     Sex   Age  SibSp  \\\n",
       "0                            Braund, Mr. Owen Harris    male  22.0      1   \n",
       "1  Cumings, Mrs. John Bradley (Florence Briggs Th...  female  38.0      1   \n",
       "2                             Heikkinen, Miss. Laina  female  26.0      0   \n",
       "3       Futrelle, Mrs. Jacques Heath (Lily May Peel)  female  35.0      1   \n",
       "4                           Allen, Mr. William Henry    male  35.0      0   \n",
       "\n",
       "   Parch            Ticket     Fare Cabin Embarked  \n",
       "0      0         A/5 21171   7.2500   NaN        S  \n",
       "1      0          PC 17599  71.2833   C85        C  \n",
       "2      0  STON/O2. 3101282   7.9250   NaN        S  \n",
       "3      0            113803  53.1000  C123        S  \n",
       "4      0            373450   8.0500   NaN        S  "
      ]
     },
     "execution_count": 33,
     "metadata": {},
     "output_type": "execute_result"
    }
   ],
   "source": [
    "full = pd.concat([full,familyDf],axis=1)\n",
    "train.head()"
   ]
  },
  {
   "cell_type": "code",
   "execution_count": 34,
   "id": "76d77e77-b714-4f05-b05a-e9acfbda9233",
   "metadata": {},
   "outputs": [
    {
     "name": "stdout",
     "output_type": "stream",
     "text": [
      "   FamilySize  Single  Small  Large\n",
      "0           2       0      1      0\n",
      "1           2       0      1      0\n",
      "2           1       1      0      0\n",
      "3           2       0      1      0\n",
      "4           1       1      0      0\n",
      "Index(['FamilySize', 'Single', 'Small', 'Large'], dtype='object')\n"
     ]
    }
   ],
   "source": [
    "print(familyDf.head())\n",
    "print(familyDf.columns)"
   ]
  },
  {
   "cell_type": "code",
   "execution_count": 35,
   "id": "75c7d504-5568-4827-b385-fd23d823f32b",
   "metadata": {},
   "outputs": [],
   "source": [
    "b = full.groupby('FamilySize')['Survived'].mean()"
   ]
  },
  {
   "cell_type": "code",
   "execution_count": 36,
   "id": "002de413-c6ad-4290-a424-8d1ebc3f24ce",
   "metadata": {},
   "outputs": [
    {
     "data": {
      "text/plain": [
       "<Axes: xlabel='FamilySize'>"
      ]
     },
     "execution_count": 36,
     "metadata": {},
     "output_type": "execute_result"
    },
    {
     "data": {
      "image/png": "[encoded data removed]",
      "text/plain": [
       "<Figure size 640x480 with 1 Axes>"
      ]
     },
     "metadata": {},
     "output_type": "display_data"
    }
   ],
   "source": [
    "b.plot.bar(color='black')"
   ]
  },
  {
   "cell_type": "code",
   "execution_count": 37,
   "id": "d44274b3-b398-4343-b24f-bc5cfcfc3043",
   "metadata": {},
   "outputs": [],
   "source": [
    "full['Cabin'] = full['Cabin'].fillna( 'U' )"
   ]
  },
  {
   "cell_type": "code",
   "execution_count": 38,
   "id": "a7bca3a3-71ea-485e-9885-a576d0529175",
   "metadata": {},
   "outputs": [],
   "source": [
    "sex_mapDict={'male':1,\n",
    "            'female':0}"
   ]
  },
  {
   "cell_type": "code",
   "execution_count": 39,
   "id": "298ea43e-523b-4459-a86a-96ba03e99483",
   "metadata": {},
   "outputs": [
    {
     "data": {
      "text/html": [
       "<div>\n",
       "<style scoped>\n",
       "    .dataframe tbody tr th:only-of-type {\n",
       "        vertical-align: middle;\n",
       "    }\n",
       "\n",
       "    .dataframe tbody tr th {\n",
       "        vertical-align: top;\n",
       "    }\n",
       "\n",
       "    .dataframe thead th {\n",
       "        text-align: right;\n",
       "    }\n",
       "</style>\n",
       "<table border=\"1\" class=\"dataframe\">\n",
       "  <thead>\n",
       "    <tr style=\"text-align: right;\">\n",
       "      <th></th>\n",
       "      <th>PassengerId</th>\n",
       "      <th>Survived</th>\n",
       "      <th>Pclass</th>\n",
       "      <th>Name</th>\n",
       "      <th>Sex</th>\n",
       "      <th>Age</th>\n",
       "      <th>SibSp</th>\n",
       "      <th>Parch</th>\n",
       "      <th>Ticket</th>\n",
       "      <th>Fare</th>\n",
       "      <th>Cabin</th>\n",
       "      <th>Embarked</th>\n",
       "      <th>Title</th>\n",
       "      <th>FamilySize</th>\n",
       "      <th>Single</th>\n",
       "      <th>Small</th>\n",
       "      <th>Large</th>\n",
       "    </tr>\n",
       "  </thead>\n",
       "  <tbody>\n",
       "    <tr>\n",
       "      <th>0</th>\n",
       "      <td>1</td>\n",
       "      <td>0.0</td>\n",
       "      <td>3</td>\n",
       "      <td>Braund, Mr. Owen Harris</td>\n",
       "      <td>1</td>\n",
       "      <td>22.0</td>\n",
       "      <td>1</td>\n",
       "      <td>0</td>\n",
       "      <td>A/5 21171</td>\n",
       "      <td>7.2500</td>\n",
       "      <td>U</td>\n",
       "      <td>S</td>\n",
       "      <td>Mr</td>\n",
       "      <td>2</td>\n",
       "      <td>0</td>\n",
       "      <td>1</td>\n",
       "      <td>0</td>\n",
       "    </tr>\n",
       "    <tr>\n",
       "      <th>1</th>\n",
       "      <td>2</td>\n",
       "      <td>1.0</td>\n",
       "      <td>1</td>\n",
       "      <td>Cumings, Mrs. John Bradley (Florence Briggs Th...</td>\n",
       "      <td>0</td>\n",
       "      <td>38.0</td>\n",
       "      <td>1</td>\n",
       "      <td>0</td>\n",
       "      <td>PC 17599</td>\n",
       "      <td>71.2833</td>\n",
       "      <td>C85</td>\n",
       "      <td>C</td>\n",
       "      <td>Mrs</td>\n",
       "      <td>2</td>\n",
       "      <td>0</td>\n",
       "      <td>1</td>\n",
       "      <td>0</td>\n",
       "    </tr>\n",
       "    <tr>\n",
       "      <th>2</th>\n",
       "      <td>3</td>\n",
       "      <td>1.0</td>\n",
       "      <td>3</td>\n",
       "      <td>Heikkinen, Miss. Laina</td>\n",
       "      <td>0</td>\n",
       "      <td>26.0</td>\n",
       "      <td>0</td>\n",
       "      <td>0</td>\n",
       "      <td>STON/O2. 3101282</td>\n",
       "      <td>7.9250</td>\n",
       "      <td>U</td>\n",
       "      <td>S</td>\n",
       "      <td>Miss</td>\n",
       "      <td>1</td>\n",
       "      <td>1</td>\n",
       "      <td>0</td>\n",
       "      <td>0</td>\n",
       "    </tr>\n",
       "    <tr>\n",
       "      <th>3</th>\n",
       "      <td>4</td>\n",
       "      <td>1.0</td>\n",
       "      <td>1</td>\n",
       "      <td>Futrelle, Mrs. Jacques Heath (Lily May Peel)</td>\n",
       "      <td>0</td>\n",
       "      <td>35.0</td>\n",
       "      <td>1</td>\n",
       "      <td>0</td>\n",
       "      <td>113803</td>\n",
       "      <td>53.1000</td>\n",
       "      <td>C123</td>\n",
       "      <td>S</td>\n",
       "      <td>Mrs</td>\n",
       "      <td>2</td>\n",
       "      <td>0</td>\n",
       "      <td>1</td>\n",
       "      <td>0</td>\n",
       "    </tr>\n",
       "    <tr>\n",
       "      <th>4</th>\n",
       "      <td>5</td>\n",
       "      <td>0.0</td>\n",
       "      <td>3</td>\n",
       "      <td>Allen, Mr. William Henry</td>\n",
       "      <td>1</td>\n",
       "      <td>35.0</td>\n",
       "      <td>0</td>\n",
       "      <td>0</td>\n",
       "      <td>373450</td>\n",
       "      <td>8.0500</td>\n",
       "      <td>U</td>\n",
       "      <td>S</td>\n",
       "      <td>Mr</td>\n",
       "      <td>1</td>\n",
       "      <td>1</td>\n",
       "      <td>0</td>\n",
       "      <td>0</td>\n",
       "    </tr>\n",
       "  </tbody>\n",
       "</table>\n",
       "</div>"
      ],
      "text/plain": [
       "   PassengerId  Survived  Pclass  \\\n",
       "0            1       0.0       3   \n",
       "1            2       1.0       1   \n",
       "2            3       1.0       3   \n",
       "3            4       1.0       1   \n",
       "4            5       0.0       3   \n",
       "\n",
       "                                                Name  Sex   Age  SibSp  Parch  \\\n",
       "0                            Braund, Mr. Owen Harris    1  22.0      1      0   \n",
       "1  Cumings, Mrs. John Bradley (Florence Briggs Th...    0  38.0      1      0   \n",
       "2                             Heikkinen, Miss. Laina    0  26.0      0      0   \n",
       "3       Futrelle, Mrs. Jacques Heath (Lily May Peel)    0  35.0      1      0   \n",
       "4                           Allen, Mr. William Henry    1  35.0      0      0   \n",
       "\n",
       "             Ticket     Fare Cabin Embarked Title  FamilySize  Single  Small  \\\n",
       "0         A/5 21171   7.2500     U        S    Mr           2       0      1   \n",
       "1          PC 17599  71.2833   C85        C   Mrs           2       0      1   \n",
       "2  STON/O2. 3101282   7.9250     U        S  Miss           1       1      0   \n",
       "3            113803  53.1000  C123        S   Mrs           2       0      1   \n",
       "4            373450   8.0500     U        S    Mr           1       1      0   \n",
       "\n",
       "   Large  \n",
       "0      0  \n",
       "1      0  \n",
       "2      0  \n",
       "3      0  \n",
       "4      0  "
      ]
     },
     "execution_count": 39,
     "metadata": {},
     "output_type": "execute_result"
    }
   ],
   "source": [
    "full['Sex']=full['Sex'].map(sex_mapDict)\n",
    "full.head()"
   ]
  },
  {
   "cell_type": "code",
   "execution_count": 40,
   "id": "99a15c3a-9692-48f5-9ca6-177ad1336e7f",
   "metadata": {},
   "outputs": [
    {
     "data": {
      "image/png": "[encoded data removed]",
      "text/plain": [
       "<Figure size 640x480 with 1 Axes>"
      ]
     },
     "metadata": {},
     "output_type": "display_data"
    }
   ],
   "source": [
    "\n",
    "survival_rates = full.groupby('Sex')['Survived'].mean()\n",
    "\n",
    "\n",
    "survival_rates.index = ['female' if idx == 0 else 'male' for idx in survival_rates.index]\n",
    "\n",
    "\n",
    "survival_rates.plot(kind='bar', color='black')  \n",
    "\n",
    "\n",
    "plt.xlabel('Sex')\n",
    "plt.ylabel('Survival Rate')\n",
    "plt.title('Survival Rate by Sex')\n",
    "plt.ylim(0, 1)  \n",
    "\n",
    "plt.show()"
   ]
  },
  {
   "cell_type": "code",
   "execution_count": 41,
   "id": "42a1d0f4-c488-4fd0-91b5-daa6485202a7",
   "metadata": {},
   "outputs": [],
   "source": [
    "embarkedDf=pd.DataFrame()"
   ]
  },
  {
   "cell_type": "code",
   "execution_count": 42,
   "id": "b3065f5f-a2b8-4cd8-83d9-855c35352749",
   "metadata": {},
   "outputs": [
    {
     "data": {
      "text/html": [
       "<div>\n",
       "<style scoped>\n",
       "    .dataframe tbody tr th:only-of-type {\n",
       "        vertical-align: middle;\n",
       "    }\n",
       "\n",
       "    .dataframe tbody tr th {\n",
       "        vertical-align: top;\n",
       "    }\n",
       "\n",
       "    .dataframe thead th {\n",
       "        text-align: right;\n",
       "    }\n",
       "</style>\n",
       "<table border=\"1\" class=\"dataframe\">\n",
       "  <thead>\n",
       "    <tr style=\"text-align: right;\">\n",
       "      <th></th>\n",
       "      <th>Embarked_C</th>\n",
       "      <th>Embarked_Q</th>\n",
       "      <th>Embarked_S</th>\n",
       "    </tr>\n",
       "  </thead>\n",
       "  <tbody>\n",
       "    <tr>\n",
       "      <th>0</th>\n",
       "      <td>0</td>\n",
       "      <td>0</td>\n",
       "      <td>1</td>\n",
       "    </tr>\n",
       "    <tr>\n",
       "      <th>1</th>\n",
       "      <td>1</td>\n",
       "      <td>0</td>\n",
       "      <td>0</td>\n",
       "    </tr>\n",
       "    <tr>\n",
       "      <th>2</th>\n",
       "      <td>0</td>\n",
       "      <td>0</td>\n",
       "      <td>1</td>\n",
       "    </tr>\n",
       "    <tr>\n",
       "      <th>3</th>\n",
       "      <td>0</td>\n",
       "      <td>0</td>\n",
       "      <td>1</td>\n",
       "    </tr>\n",
       "    <tr>\n",
       "      <th>4</th>\n",
       "      <td>0</td>\n",
       "      <td>0</td>\n",
       "      <td>1</td>\n",
       "    </tr>\n",
       "  </tbody>\n",
       "</table>\n",
       "</div>"
      ],
      "text/plain": [
       "   Embarked_C  Embarked_Q  Embarked_S\n",
       "0           0           0           1\n",
       "1           1           0           0\n",
       "2           0           0           1\n",
       "3           0           0           1\n",
       "4           0           0           1"
      ]
     },
     "execution_count": 42,
     "metadata": {},
     "output_type": "execute_result"
    }
   ],
   "source": [
    "\n",
    "embarkedDf=pd.get_dummies(full['Embarked'],prefix='Embarked').astype(int)\n",
    "embarkedDf.head()"
   ]
  },
  {
   "cell_type": "code",
   "execution_count": 43,
   "id": "cc042ce9-563b-40ac-9116-4962eca628cb",
   "metadata": {},
   "outputs": [],
   "source": [
    "full = pd.concat([full,embarkedDf],axis=1)"
   ]
  },
  {
   "cell_type": "code",
   "execution_count": 44,
   "id": "bde523ba-5c38-4da6-a465-95e79c011210",
   "metadata": {},
   "outputs": [
    {
     "data": {
      "text/html": [
       "<div>\n",
       "<style scoped>\n",
       "    .dataframe tbody tr th:only-of-type {\n",
       "        vertical-align: middle;\n",
       "    }\n",
       "\n",
       "    .dataframe tbody tr th {\n",
       "        vertical-align: top;\n",
       "    }\n",
       "\n",
       "    .dataframe thead th {\n",
       "        text-align: right;\n",
       "    }\n",
       "</style>\n",
       "<table border=\"1\" class=\"dataframe\">\n",
       "  <thead>\n",
       "    <tr style=\"text-align: right;\">\n",
       "      <th></th>\n",
       "      <th>PassengerId</th>\n",
       "      <th>Survived</th>\n",
       "      <th>Pclass</th>\n",
       "      <th>Name</th>\n",
       "      <th>Sex</th>\n",
       "      <th>Age</th>\n",
       "      <th>SibSp</th>\n",
       "      <th>Parch</th>\n",
       "      <th>Ticket</th>\n",
       "      <th>Fare</th>\n",
       "      <th>Cabin</th>\n",
       "      <th>Embarked</th>\n",
       "      <th>Title</th>\n",
       "      <th>FamilySize</th>\n",
       "      <th>Single</th>\n",
       "      <th>Small</th>\n",
       "      <th>Large</th>\n",
       "      <th>Embarked_C</th>\n",
       "      <th>Embarked_Q</th>\n",
       "      <th>Embarked_S</th>\n",
       "    </tr>\n",
       "  </thead>\n",
       "  <tbody>\n",
       "    <tr>\n",
       "      <th>0</th>\n",
       "      <td>1</td>\n",
       "      <td>0.0</td>\n",
       "      <td>3</td>\n",
       "      <td>Braund, Mr. Owen Harris</td>\n",
       "      <td>1</td>\n",
       "      <td>22.0</td>\n",
       "      <td>1</td>\n",
       "      <td>0</td>\n",
       "      <td>A/5 21171</td>\n",
       "      <td>7.2500</td>\n",
       "      <td>U</td>\n",
       "      <td>S</td>\n",
       "      <td>Mr</td>\n",
       "      <td>2</td>\n",
       "      <td>0</td>\n",
       "      <td>1</td>\n",
       "      <td>0</td>\n",
       "      <td>0</td>\n",
       "      <td>0</td>\n",
       "      <td>1</td>\n",
       "    </tr>\n",
       "    <tr>\n",
       "      <th>1</th>\n",
       "      <td>2</td>\n",
       "      <td>1.0</td>\n",
       "      <td>1</td>\n",
       "      <td>Cumings, Mrs. John Bradley (Florence Briggs Th...</td>\n",
       "      <td>0</td>\n",
       "      <td>38.0</td>\n",
       "      <td>1</td>\n",
       "      <td>0</td>\n",
       "      <td>PC 17599</td>\n",
       "      <td>71.2833</td>\n",
       "      <td>C85</td>\n",
       "      <td>C</td>\n",
       "      <td>Mrs</td>\n",
       "      <td>2</td>\n",
       "      <td>0</td>\n",
       "      <td>1</td>\n",
       "      <td>0</td>\n",
       "      <td>1</td>\n",
       "      <td>0</td>\n",
       "      <td>0</td>\n",
       "    </tr>\n",
       "    <tr>\n",
       "      <th>2</th>\n",
       "      <td>3</td>\n",
       "      <td>1.0</td>\n",
       "      <td>3</td>\n",
       "      <td>Heikkinen, Miss. Laina</td>\n",
       "      <td>0</td>\n",
       "      <td>26.0</td>\n",
       "      <td>0</td>\n",
       "      <td>0</td>\n",
       "      <td>STON/O2. 3101282</td>\n",
       "      <td>7.9250</td>\n",
       "      <td>U</td>\n",
       "      <td>S</td>\n",
       "      <td>Miss</td>\n",
       "      <td>1</td>\n",
       "      <td>1</td>\n",
       "      <td>0</td>\n",
       "      <td>0</td>\n",
       "      <td>0</td>\n",
       "      <td>0</td>\n",
       "      <td>1</td>\n",
       "    </tr>\n",
       "    <tr>\n",
       "      <th>3</th>\n",
       "      <td>4</td>\n",
       "      <td>1.0</td>\n",
       "      <td>1</td>\n",
       "      <td>Futrelle, Mrs. Jacques Heath (Lily May Peel)</td>\n",
       "      <td>0</td>\n",
       "      <td>35.0</td>\n",
       "      <td>1</td>\n",
       "      <td>0</td>\n",
       "      <td>113803</td>\n",
       "      <td>53.1000</td>\n",
       "      <td>C123</td>\n",
       "      <td>S</td>\n",
       "      <td>Mrs</td>\n",
       "      <td>2</td>\n",
       "      <td>0</td>\n",
       "      <td>1</td>\n",
       "      <td>0</td>\n",
       "      <td>0</td>\n",
       "      <td>0</td>\n",
       "      <td>1</td>\n",
       "    </tr>\n",
       "    <tr>\n",
       "      <th>4</th>\n",
       "      <td>5</td>\n",
       "      <td>0.0</td>\n",
       "      <td>3</td>\n",
       "      <td>Allen, Mr. William Henry</td>\n",
       "      <td>1</td>\n",
       "      <td>35.0</td>\n",
       "      <td>0</td>\n",
       "      <td>0</td>\n",
       "      <td>373450</td>\n",
       "      <td>8.0500</td>\n",
       "      <td>U</td>\n",
       "      <td>S</td>\n",
       "      <td>Mr</td>\n",
       "      <td>1</td>\n",
       "      <td>1</td>\n",
       "      <td>0</td>\n",
       "      <td>0</td>\n",
       "      <td>0</td>\n",
       "      <td>0</td>\n",
       "      <td>1</td>\n",
       "    </tr>\n",
       "  </tbody>\n",
       "</table>\n",
       "</div>"
      ],
      "text/plain": [
       "   PassengerId  Survived  Pclass  \\\n",
       "0            1       0.0       3   \n",
       "1            2       1.0       1   \n",
       "2            3       1.0       3   \n",
       "3            4       1.0       1   \n",
       "4            5       0.0       3   \n",
       "\n",
       "                                                Name  Sex   Age  SibSp  Parch  \\\n",
       "0                            Braund, Mr. Owen Harris    1  22.0      1      0   \n",
       "1  Cumings, Mrs. John Bradley (Florence Briggs Th...    0  38.0      1      0   \n",
       "2                             Heikkinen, Miss. Laina    0  26.0      0      0   \n",
       "3       Futrelle, Mrs. Jacques Heath (Lily May Peel)    0  35.0      1      0   \n",
       "4                           Allen, Mr. William Henry    1  35.0      0      0   \n",
       "\n",
       "             Ticket     Fare Cabin Embarked Title  FamilySize  Single  Small  \\\n",
       "0         A/5 21171   7.2500     U        S    Mr           2       0      1   \n",
       "1          PC 17599  71.2833   C85        C   Mrs           2       0      1   \n",
       "2  STON/O2. 3101282   7.9250     U        S  Miss           1       1      0   \n",
       "3            113803  53.1000  C123        S   Mrs           2       0      1   \n",
       "4            373450   8.0500     U        S    Mr           1       1      0   \n",
       "\n",
       "   Large  Embarked_C  Embarked_Q  Embarked_S  \n",
       "0      0           0           0           1  \n",
       "1      0           1           0           0  \n",
       "2      0           0           0           1  \n",
       "3      0           0           0           1  \n",
       "4      0           0           0           1  "
      ]
     },
     "execution_count": 44,
     "metadata": {},
     "output_type": "execute_result"
    }
   ],
   "source": [
    "full.head()"
   ]
  },
  {
   "cell_type": "code",
   "execution_count": 45,
   "id": "ed735b83-ee26-4186-96f2-bdfd19107be9",
   "metadata": {},
   "outputs": [],
   "source": [
    "pclassDf = pd.DataFrame()"
   ]
  },
  {
   "cell_type": "code",
   "execution_count": 46,
   "id": "2b5271c4-8d07-48a6-ba8f-620138d61b52",
   "metadata": {},
   "outputs": [
    {
     "data": {
      "text/html": [
       "<div>\n",
       "<style scoped>\n",
       "    .dataframe tbody tr th:only-of-type {\n",
       "        vertical-align: middle;\n",
       "    }\n",
       "\n",
       "    .dataframe tbody tr th {\n",
       "        vertical-align: top;\n",
       "    }\n",
       "\n",
       "    .dataframe thead th {\n",
       "        text-align: right;\n",
       "    }\n",
       "</style>\n",
       "<table border=\"1\" class=\"dataframe\">\n",
       "  <thead>\n",
       "    <tr style=\"text-align: right;\">\n",
       "      <th></th>\n",
       "      <th>Pclass_1</th>\n",
       "      <th>Pclass_2</th>\n",
       "      <th>Pclass_3</th>\n",
       "    </tr>\n",
       "  </thead>\n",
       "  <tbody>\n",
       "    <tr>\n",
       "      <th>0</th>\n",
       "      <td>0</td>\n",
       "      <td>0</td>\n",
       "      <td>1</td>\n",
       "    </tr>\n",
       "    <tr>\n",
       "      <th>1</th>\n",
       "      <td>1</td>\n",
       "      <td>0</td>\n",
       "      <td>0</td>\n",
       "    </tr>\n",
       "    <tr>\n",
       "      <th>2</th>\n",
       "      <td>0</td>\n",
       "      <td>0</td>\n",
       "      <td>1</td>\n",
       "    </tr>\n",
       "    <tr>\n",
       "      <th>3</th>\n",
       "      <td>1</td>\n",
       "      <td>0</td>\n",
       "      <td>0</td>\n",
       "    </tr>\n",
       "    <tr>\n",
       "      <th>4</th>\n",
       "      <td>0</td>\n",
       "      <td>0</td>\n",
       "      <td>1</td>\n",
       "    </tr>\n",
       "  </tbody>\n",
       "</table>\n",
       "</div>"
      ],
      "text/plain": [
       "   Pclass_1  Pclass_2  Pclass_3\n",
       "0         0         0         1\n",
       "1         1         0         0\n",
       "2         0         0         1\n",
       "3         1         0         0\n",
       "4         0         0         1"
      ]
     },
     "execution_count": 46,
     "metadata": {},
     "output_type": "execute_result"
    }
   ],
   "source": [
    "pclassDf = pd.get_dummies(full['Pclass'],prefix='Pclass').astype(int)\n",
    "pclassDf.head()"
   ]
  },
  {
   "cell_type": "code",
   "execution_count": 47,
   "id": "a22d14bf-36b4-40ea-9eba-21625b3127bc",
   "metadata": {},
   "outputs": [],
   "source": [
    "full = pd.concat([full,pclassDf],axis=1)"
   ]
  },
  {
   "cell_type": "code",
   "execution_count": 48,
   "id": "7b40b2d7-1dac-452f-91dd-fed187eb4289",
   "metadata": {},
   "outputs": [
    {
     "data": {
      "text/html": [
       "<div>\n",
       "<style scoped>\n",
       "    .dataframe tbody tr th:only-of-type {\n",
       "        vertical-align: middle;\n",
       "    }\n",
       "\n",
       "    .dataframe tbody tr th {\n",
       "        vertical-align: top;\n",
       "    }\n",
       "\n",
       "    .dataframe thead th {\n",
       "        text-align: right;\n",
       "    }\n",
       "</style>\n",
       "<table border=\"1\" class=\"dataframe\">\n",
       "  <thead>\n",
       "    <tr style=\"text-align: right;\">\n",
       "      <th></th>\n",
       "      <th>Master</th>\n",
       "      <th>Miss</th>\n",
       "      <th>Mr</th>\n",
       "      <th>Mrs</th>\n",
       "      <th>Officer</th>\n",
       "      <th>Royalty</th>\n",
       "    </tr>\n",
       "  </thead>\n",
       "  <tbody>\n",
       "    <tr>\n",
       "      <th>0</th>\n",
       "      <td>0</td>\n",
       "      <td>0</td>\n",
       "      <td>1</td>\n",
       "      <td>0</td>\n",
       "      <td>0</td>\n",
       "      <td>0</td>\n",
       "    </tr>\n",
       "    <tr>\n",
       "      <th>1</th>\n",
       "      <td>0</td>\n",
       "      <td>0</td>\n",
       "      <td>0</td>\n",
       "      <td>1</td>\n",
       "      <td>0</td>\n",
       "      <td>0</td>\n",
       "    </tr>\n",
       "    <tr>\n",
       "      <th>2</th>\n",
       "      <td>0</td>\n",
       "      <td>1</td>\n",
       "      <td>0</td>\n",
       "      <td>0</td>\n",
       "      <td>0</td>\n",
       "      <td>0</td>\n",
       "    </tr>\n",
       "    <tr>\n",
       "      <th>3</th>\n",
       "      <td>0</td>\n",
       "      <td>0</td>\n",
       "      <td>0</td>\n",
       "      <td>1</td>\n",
       "      <td>0</td>\n",
       "      <td>0</td>\n",
       "    </tr>\n",
       "    <tr>\n",
       "      <th>4</th>\n",
       "      <td>0</td>\n",
       "      <td>0</td>\n",
       "      <td>1</td>\n",
       "      <td>0</td>\n",
       "      <td>0</td>\n",
       "      <td>0</td>\n",
       "    </tr>\n",
       "  </tbody>\n",
       "</table>\n",
       "</div>"
      ],
      "text/plain": [
       "   Master  Miss  Mr  Mrs  Officer  Royalty\n",
       "0       0     0   1    0        0        0\n",
       "1       0     0   0    1        0        0\n",
       "2       0     1   0    0        0        0\n",
       "3       0     0   0    1        0        0\n",
       "4       0     0   1    0        0        0"
      ]
     },
     "execution_count": 48,
     "metadata": {},
     "output_type": "execute_result"
    }
   ],
   "source": [
    "titleDf=pd.get_dummies(titleDf['Title']).astype(int)\n",
    "titleDf.head()"
   ]
  },
  {
   "cell_type": "code",
   "execution_count": 49,
   "id": "183c0129-ff74-462d-a273-22ed86a46974",
   "metadata": {},
   "outputs": [
    {
     "data": {
      "text/html": [
       "<div>\n",
       "<style scoped>\n",
       "    .dataframe tbody tr th:only-of-type {\n",
       "        vertical-align: middle;\n",
       "    }\n",
       "\n",
       "    .dataframe tbody tr th {\n",
       "        vertical-align: top;\n",
       "    }\n",
       "\n",
       "    .dataframe thead th {\n",
       "        text-align: right;\n",
       "    }\n",
       "</style>\n",
       "<table border=\"1\" class=\"dataframe\">\n",
       "  <thead>\n",
       "    <tr style=\"text-align: right;\">\n",
       "      <th></th>\n",
       "      <th>PassengerId</th>\n",
       "      <th>Survived</th>\n",
       "      <th>Pclass</th>\n",
       "      <th>Sex</th>\n",
       "      <th>Age</th>\n",
       "      <th>SibSp</th>\n",
       "      <th>Parch</th>\n",
       "      <th>Ticket</th>\n",
       "      <th>Fare</th>\n",
       "      <th>Cabin</th>\n",
       "      <th>...</th>\n",
       "      <th>Embarked_S</th>\n",
       "      <th>Pclass_1</th>\n",
       "      <th>Pclass_2</th>\n",
       "      <th>Pclass_3</th>\n",
       "      <th>Master</th>\n",
       "      <th>Miss</th>\n",
       "      <th>Mr</th>\n",
       "      <th>Mrs</th>\n",
       "      <th>Officer</th>\n",
       "      <th>Royalty</th>\n",
       "    </tr>\n",
       "  </thead>\n",
       "  <tbody>\n",
       "    <tr>\n",
       "      <th>0</th>\n",
       "      <td>1</td>\n",
       "      <td>0.0</td>\n",
       "      <td>3</td>\n",
       "      <td>1</td>\n",
       "      <td>22.0</td>\n",
       "      <td>1</td>\n",
       "      <td>0</td>\n",
       "      <td>A/5 21171</td>\n",
       "      <td>7.2500</td>\n",
       "      <td>U</td>\n",
       "      <td>...</td>\n",
       "      <td>1</td>\n",
       "      <td>0</td>\n",
       "      <td>0</td>\n",
       "      <td>1</td>\n",
       "      <td>0</td>\n",
       "      <td>0</td>\n",
       "      <td>1</td>\n",
       "      <td>0</td>\n",
       "      <td>0</td>\n",
       "      <td>0</td>\n",
       "    </tr>\n",
       "    <tr>\n",
       "      <th>1</th>\n",
       "      <td>2</td>\n",
       "      <td>1.0</td>\n",
       "      <td>1</td>\n",
       "      <td>0</td>\n",
       "      <td>38.0</td>\n",
       "      <td>1</td>\n",
       "      <td>0</td>\n",
       "      <td>PC 17599</td>\n",
       "      <td>71.2833</td>\n",
       "      <td>C85</td>\n",
       "      <td>...</td>\n",
       "      <td>0</td>\n",
       "      <td>1</td>\n",
       "      <td>0</td>\n",
       "      <td>0</td>\n",
       "      <td>0</td>\n",
       "      <td>0</td>\n",
       "      <td>0</td>\n",
       "      <td>1</td>\n",
       "      <td>0</td>\n",
       "      <td>0</td>\n",
       "    </tr>\n",
       "    <tr>\n",
       "      <th>2</th>\n",
       "      <td>3</td>\n",
       "      <td>1.0</td>\n",
       "      <td>3</td>\n",
       "      <td>0</td>\n",
       "      <td>26.0</td>\n",
       "      <td>0</td>\n",
       "      <td>0</td>\n",
       "      <td>STON/O2. 3101282</td>\n",
       "      <td>7.9250</td>\n",
       "      <td>U</td>\n",
       "      <td>...</td>\n",
       "      <td>1</td>\n",
       "      <td>0</td>\n",
       "      <td>0</td>\n",
       "      <td>1</td>\n",
       "      <td>0</td>\n",
       "      <td>1</td>\n",
       "      <td>0</td>\n",
       "      <td>0</td>\n",
       "      <td>0</td>\n",
       "      <td>0</td>\n",
       "    </tr>\n",
       "    <tr>\n",
       "      <th>3</th>\n",
       "      <td>4</td>\n",
       "      <td>1.0</td>\n",
       "      <td>1</td>\n",
       "      <td>0</td>\n",
       "      <td>35.0</td>\n",
       "      <td>1</td>\n",
       "      <td>0</td>\n",
       "      <td>113803</td>\n",
       "      <td>53.1000</td>\n",
       "      <td>C123</td>\n",
       "      <td>...</td>\n",
       "      <td>1</td>\n",
       "      <td>1</td>\n",
       "      <td>0</td>\n",
       "      <td>0</td>\n",
       "      <td>0</td>\n",
       "      <td>0</td>\n",
       "      <td>0</td>\n",
       "      <td>1</td>\n",
       "      <td>0</td>\n",
       "      <td>0</td>\n",
       "    </tr>\n",
       "    <tr>\n",
       "      <th>4</th>\n",
       "      <td>5</td>\n",
       "      <td>0.0</td>\n",
       "      <td>3</td>\n",
       "      <td>1</td>\n",
       "      <td>35.0</td>\n",
       "      <td>0</td>\n",
       "      <td>0</td>\n",
       "      <td>373450</td>\n",
       "      <td>8.0500</td>\n",
       "      <td>U</td>\n",
       "      <td>...</td>\n",
       "      <td>1</td>\n",
       "      <td>0</td>\n",
       "      <td>0</td>\n",
       "      <td>1</td>\n",
       "      <td>0</td>\n",
       "      <td>0</td>\n",
       "      <td>1</td>\n",
       "      <td>0</td>\n",
       "      <td>0</td>\n",
       "      <td>0</td>\n",
       "    </tr>\n",
       "  </tbody>\n",
       "</table>\n",
       "<p>5 rows × 28 columns</p>\n",
       "</div>"
      ],
      "text/plain": [
       "   PassengerId  Survived  Pclass  Sex   Age  SibSp  Parch            Ticket  \\\n",
       "0            1       0.0       3    1  22.0      1      0         A/5 21171   \n",
       "1            2       1.0       1    0  38.0      1      0          PC 17599   \n",
       "2            3       1.0       3    0  26.0      0      0  STON/O2. 3101282   \n",
       "3            4       1.0       1    0  35.0      1      0            113803   \n",
       "4            5       0.0       3    1  35.0      0      0            373450   \n",
       "\n",
       "      Fare Cabin  ... Embarked_S Pclass_1  Pclass_2  Pclass_3  Master  Miss  \\\n",
       "0   7.2500     U  ...          1        0         0         1       0     0   \n",
       "1  71.2833   C85  ...          0        1         0         0       0     0   \n",
       "2   7.9250     U  ...          1        0         0         1       0     1   \n",
       "3  53.1000  C123  ...          1        1         0         0       0     0   \n",
       "4   8.0500     U  ...          1        0         0         1       0     0   \n",
       "\n",
       "   Mr  Mrs  Officer  Royalty  \n",
       "0   1    0        0        0  \n",
       "1   0    1        0        0  \n",
       "2   0    0        0        0  \n",
       "3   0    1        0        0  \n",
       "4   1    0        0        0  \n",
       "\n",
       "[5 rows x 28 columns]"
      ]
     },
     "execution_count": 49,
     "metadata": {},
     "output_type": "execute_result"
    }
   ],
   "source": [
    "\n",
    "full = pd.concat([full,titleDf],axis = 1)\n",
    "\n",
    "full.drop('Name',axis = 1,inplace = True)\n",
    "full.head()"
   ]
  },
  {
   "cell_type": "code",
   "execution_count": 50,
   "id": "e3f88848-afbf-4c1d-99f8-7360097ecb19",
   "metadata": {},
   "outputs": [],
   "source": [
    "cabinDf = pd.DataFrame()"
   ]
  },
  {
   "cell_type": "code",
   "execution_count": 51,
   "id": "771c573e-f5d1-4667-b55d-aab443a0901c",
   "metadata": {},
   "outputs": [],
   "source": [
    "full['Cabin'] = full['Cabin'].map(lambda c: c[0])"
   ]
  },
  {
   "cell_type": "code",
   "execution_count": 52,
   "id": "683a2b03-9145-416f-a700-7b4abd04445f",
   "metadata": {},
   "outputs": [
    {
     "data": {
      "text/plain": [
       "0    U\n",
       "1    C\n",
       "2    U\n",
       "3    C\n",
       "4    U\n",
       "Name: Cabin, dtype: object"
      ]
     },
     "execution_count": 52,
     "metadata": {},
     "output_type": "execute_result"
    }
   ],
   "source": [
    "full['Cabin'].head()"
   ]
  },
  {
   "cell_type": "code",
   "execution_count": 53,
   "id": "be251b29-d3c8-4fc5-9240-6c4a4fbd486e",
   "metadata": {},
   "outputs": [
    {
     "data": {
      "text/html": [
       "<div>\n",
       "<style scoped>\n",
       "    .dataframe tbody tr th:only-of-type {\n",
       "        vertical-align: middle;\n",
       "    }\n",
       "\n",
       "    .dataframe tbody tr th {\n",
       "        vertical-align: top;\n",
       "    }\n",
       "\n",
       "    .dataframe thead th {\n",
       "        text-align: right;\n",
       "    }\n",
       "</style>\n",
       "<table border=\"1\" class=\"dataframe\">\n",
       "  <thead>\n",
       "    <tr style=\"text-align: right;\">\n",
       "      <th></th>\n",
       "      <th>Cabin_A</th>\n",
       "      <th>Cabin_B</th>\n",
       "      <th>Cabin_C</th>\n",
       "      <th>Cabin_D</th>\n",
       "      <th>Cabin_E</th>\n",
       "      <th>Cabin_F</th>\n",
       "      <th>Cabin_G</th>\n",
       "      <th>Cabin_T</th>\n",
       "      <th>Cabin_U</th>\n",
       "    </tr>\n",
       "  </thead>\n",
       "  <tbody>\n",
       "    <tr>\n",
       "      <th>0</th>\n",
       "      <td>0</td>\n",
       "      <td>0</td>\n",
       "      <td>0</td>\n",
       "      <td>0</td>\n",
       "      <td>0</td>\n",
       "      <td>0</td>\n",
       "      <td>0</td>\n",
       "      <td>0</td>\n",
       "      <td>1</td>\n",
       "    </tr>\n",
       "    <tr>\n",
       "      <th>1</th>\n",
       "      <td>0</td>\n",
       "      <td>0</td>\n",
       "      <td>1</td>\n",
       "      <td>0</td>\n",
       "      <td>0</td>\n",
       "      <td>0</td>\n",
       "      <td>0</td>\n",
       "      <td>0</td>\n",
       "      <td>0</td>\n",
       "    </tr>\n",
       "    <tr>\n",
       "      <th>2</th>\n",
       "      <td>0</td>\n",
       "      <td>0</td>\n",
       "      <td>0</td>\n",
       "      <td>0</td>\n",
       "      <td>0</td>\n",
       "      <td>0</td>\n",
       "      <td>0</td>\n",
       "      <td>0</td>\n",
       "      <td>1</td>\n",
       "    </tr>\n",
       "    <tr>\n",
       "      <th>3</th>\n",
       "      <td>0</td>\n",
       "      <td>0</td>\n",
       "      <td>1</td>\n",
       "      <td>0</td>\n",
       "      <td>0</td>\n",
       "      <td>0</td>\n",
       "      <td>0</td>\n",
       "      <td>0</td>\n",
       "      <td>0</td>\n",
       "    </tr>\n",
       "    <tr>\n",
       "      <th>4</th>\n",
       "      <td>0</td>\n",
       "      <td>0</td>\n",
       "      <td>0</td>\n",
       "      <td>0</td>\n",
       "      <td>0</td>\n",
       "      <td>0</td>\n",
       "      <td>0</td>\n",
       "      <td>0</td>\n",
       "      <td>1</td>\n",
       "    </tr>\n",
       "  </tbody>\n",
       "</table>\n",
       "</div>"
      ],
      "text/plain": [
       "   Cabin_A  Cabin_B  Cabin_C  Cabin_D  Cabin_E  Cabin_F  Cabin_G  Cabin_T  \\\n",
       "0        0        0        0        0        0        0        0        0   \n",
       "1        0        0        1        0        0        0        0        0   \n",
       "2        0        0        0        0        0        0        0        0   \n",
       "3        0        0        1        0        0        0        0        0   \n",
       "4        0        0        0        0        0        0        0        0   \n",
       "\n",
       "   Cabin_U  \n",
       "0        1  \n",
       "1        0  \n",
       "2        1  \n",
       "3        0  \n",
       "4        1  "
      ]
     },
     "execution_count": 53,
     "metadata": {},
     "output_type": "execute_result"
    }
   ],
   "source": [
    "cabinDf = pd.get_dummies(full['Cabin'],prefix='Cabin').astype(int)\n",
    "cabinDf.head()"
   ]
  },
  {
   "cell_type": "code",
   "execution_count": 54,
   "id": "fa903cc7-4b59-4ebb-a158-2798cc77b6b6",
   "metadata": {},
   "outputs": [],
   "source": [
    "full = pd.concat([full,cabinDf],axis=1)"
   ]
  },
  {
   "cell_type": "code",
   "execution_count": 55,
   "id": "1b7a969b-dc7e-4797-a197-7c28b43bfb83",
   "metadata": {},
   "outputs": [
    {
     "data": {
      "text/html": [
       "<div>\n",
       "<style scoped>\n",
       "    .dataframe tbody tr th:only-of-type {\n",
       "        vertical-align: middle;\n",
       "    }\n",
       "\n",
       "    .dataframe tbody tr th {\n",
       "        vertical-align: top;\n",
       "    }\n",
       "\n",
       "    .dataframe thead th {\n",
       "        text-align: right;\n",
       "    }\n",
       "</style>\n",
       "<table border=\"1\" class=\"dataframe\">\n",
       "  <thead>\n",
       "    <tr style=\"text-align: right;\">\n",
       "      <th></th>\n",
       "      <th>PassengerId</th>\n",
       "      <th>Survived</th>\n",
       "      <th>Pclass</th>\n",
       "      <th>Sex</th>\n",
       "      <th>Age</th>\n",
       "      <th>SibSp</th>\n",
       "      <th>Parch</th>\n",
       "      <th>Ticket</th>\n",
       "      <th>Fare</th>\n",
       "      <th>Cabin</th>\n",
       "      <th>...</th>\n",
       "      <th>Royalty</th>\n",
       "      <th>Cabin_A</th>\n",
       "      <th>Cabin_B</th>\n",
       "      <th>Cabin_C</th>\n",
       "      <th>Cabin_D</th>\n",
       "      <th>Cabin_E</th>\n",
       "      <th>Cabin_F</th>\n",
       "      <th>Cabin_G</th>\n",
       "      <th>Cabin_T</th>\n",
       "      <th>Cabin_U</th>\n",
       "    </tr>\n",
       "  </thead>\n",
       "  <tbody>\n",
       "    <tr>\n",
       "      <th>0</th>\n",
       "      <td>1</td>\n",
       "      <td>0.0</td>\n",
       "      <td>3</td>\n",
       "      <td>1</td>\n",
       "      <td>22.0</td>\n",
       "      <td>1</td>\n",
       "      <td>0</td>\n",
       "      <td>A/5 21171</td>\n",
       "      <td>7.2500</td>\n",
       "      <td>U</td>\n",
       "      <td>...</td>\n",
       "      <td>0</td>\n",
       "      <td>0</td>\n",
       "      <td>0</td>\n",
       "      <td>0</td>\n",
       "      <td>0</td>\n",
       "      <td>0</td>\n",
       "      <td>0</td>\n",
       "      <td>0</td>\n",
       "      <td>0</td>\n",
       "      <td>1</td>\n",
       "    </tr>\n",
       "    <tr>\n",
       "      <th>1</th>\n",
       "      <td>2</td>\n",
       "      <td>1.0</td>\n",
       "      <td>1</td>\n",
       "      <td>0</td>\n",
       "      <td>38.0</td>\n",
       "      <td>1</td>\n",
       "      <td>0</td>\n",
       "      <td>PC 17599</td>\n",
       "      <td>71.2833</td>\n",
       "      <td>C</td>\n",
       "      <td>...</td>\n",
       "      <td>0</td>\n",
       "      <td>0</td>\n",
       "      <td>0</td>\n",
       "      <td>1</td>\n",
       "      <td>0</td>\n",
       "      <td>0</td>\n",
       "      <td>0</td>\n",
       "      <td>0</td>\n",
       "      <td>0</td>\n",
       "      <td>0</td>\n",
       "    </tr>\n",
       "    <tr>\n",
       "      <th>2</th>\n",
       "      <td>3</td>\n",
       "      <td>1.0</td>\n",
       "      <td>3</td>\n",
       "      <td>0</td>\n",
       "      <td>26.0</td>\n",
       "      <td>0</td>\n",
       "      <td>0</td>\n",
       "      <td>STON/O2. 3101282</td>\n",
       "      <td>7.9250</td>\n",
       "      <td>U</td>\n",
       "      <td>...</td>\n",
       "      <td>0</td>\n",
       "      <td>0</td>\n",
       "      <td>0</td>\n",
       "      <td>0</td>\n",
       "      <td>0</td>\n",
       "      <td>0</td>\n",
       "      <td>0</td>\n",
       "      <td>0</td>\n",
       "      <td>0</td>\n",
       "      <td>1</td>\n",
       "    </tr>\n",
       "    <tr>\n",
       "      <th>3</th>\n",
       "      <td>4</td>\n",
       "      <td>1.0</td>\n",
       "      <td>1</td>\n",
       "      <td>0</td>\n",
       "      <td>35.0</td>\n",
       "      <td>1</td>\n",
       "      <td>0</td>\n",
       "      <td>113803</td>\n",
       "      <td>53.1000</td>\n",
       "      <td>C</td>\n",
       "      <td>...</td>\n",
       "      <td>0</td>\n",
       "      <td>0</td>\n",
       "      <td>0</td>\n",
       "      <td>1</td>\n",
       "      <td>0</td>\n",
       "      <td>0</td>\n",
       "      <td>0</td>\n",
       "      <td>0</td>\n",
       "      <td>0</td>\n",
       "      <td>0</td>\n",
       "    </tr>\n",
       "    <tr>\n",
       "      <th>4</th>\n",
       "      <td>5</td>\n",
       "      <td>0.0</td>\n",
       "      <td>3</td>\n",
       "      <td>1</td>\n",
       "      <td>35.0</td>\n",
       "      <td>0</td>\n",
       "      <td>0</td>\n",
       "      <td>373450</td>\n",
       "      <td>8.0500</td>\n",
       "      <td>U</td>\n",
       "      <td>...</td>\n",
       "      <td>0</td>\n",
       "      <td>0</td>\n",
       "      <td>0</td>\n",
       "      <td>0</td>\n",
       "      <td>0</td>\n",
       "      <td>0</td>\n",
       "      <td>0</td>\n",
       "      <td>0</td>\n",
       "      <td>0</td>\n",
       "      <td>1</td>\n",
       "    </tr>\n",
       "  </tbody>\n",
       "</table>\n",
       "<p>5 rows × 37 columns</p>\n",
       "</div>"
      ],
      "text/plain": [
       "   PassengerId  Survived  Pclass  Sex   Age  SibSp  Parch            Ticket  \\\n",
       "0            1       0.0       3    1  22.0      1      0         A/5 21171   \n",
       "1            2       1.0       1    0  38.0      1      0          PC 17599   \n",
       "2            3       1.0       3    0  26.0      0      0  STON/O2. 3101282   \n",
       "3            4       1.0       1    0  35.0      1      0            113803   \n",
       "4            5       0.0       3    1  35.0      0      0            373450   \n",
       "\n",
       "      Fare Cabin  ... Royalty Cabin_A  Cabin_B  Cabin_C  Cabin_D  Cabin_E  \\\n",
       "0   7.2500     U  ...       0       0        0        0        0        0   \n",
       "1  71.2833     C  ...       0       0        0        1        0        0   \n",
       "2   7.9250     U  ...       0       0        0        0        0        0   \n",
       "3  53.1000     C  ...       0       0        0        1        0        0   \n",
       "4   8.0500     U  ...       0       0        0        0        0        0   \n",
       "\n",
       "   Cabin_F  Cabin_G  Cabin_T  Cabin_U  \n",
       "0        0        0        0        1  \n",
       "1        0        0        0        0  \n",
       "2        0        0        0        1  \n",
       "3        0        0        0        0  \n",
       "4        0        0        0        1  \n",
       "\n",
       "[5 rows x 37 columns]"
      ]
     },
     "execution_count": 55,
     "metadata": {},
     "output_type": "execute_result"
    }
   ],
   "source": [
    "full.head()"
   ]
  },
  {
   "cell_type": "code",
   "execution_count": 56,
   "id": "c94122f3-ea0f-4fe1-b1e9-28b30f2e24bc",
   "metadata": {},
   "outputs": [
    {
     "name": "stdout",
     "output_type": "stream",
     "text": [
      "PassengerId      int64\n",
      "Survived       float64\n",
      "Pclass           int64\n",
      "Sex              int64\n",
      "Age            float64\n",
      "SibSp            int64\n",
      "Parch            int64\n",
      "Ticket          object\n",
      "Fare           float64\n",
      "Cabin           object\n",
      "Embarked        object\n",
      "Title           object\n",
      "FamilySize       int64\n",
      "Single           int64\n",
      "Small            int64\n",
      "Large            int64\n",
      "Embarked_C       int64\n",
      "Embarked_Q       int64\n",
      "Embarked_S       int64\n",
      "Pclass_1         int64\n",
      "Pclass_2         int64\n",
      "Pclass_3         int64\n",
      "Master           int64\n",
      "Miss             int64\n",
      "Mr               int64\n",
      "Mrs              int64\n",
      "Officer          int64\n",
      "Royalty          int64\n",
      "Cabin_A          int64\n",
      "Cabin_B          int64\n",
      "Cabin_C          int64\n",
      "Cabin_D          int64\n",
      "Cabin_E          int64\n",
      "Cabin_F          int64\n",
      "Cabin_G          int64\n",
      "Cabin_T          int64\n",
      "Cabin_U          int64\n",
      "dtype: object\n"
     ]
    }
   ],
   "source": [
    "print(full.dtypes)"
   ]
  },
  {
   "cell_type": "code",
   "execution_count": 57,
   "id": "774a82fc-10c0-4153-895c-c7ebbd1c5021",
   "metadata": {},
   "outputs": [],
   "source": [
    "full.drop('Embarked',axis = 1,inplace = True)\n",
    "full.drop('Cabin',axis = 1,inplace = True)\n",
    "full.drop('Title',axis = 1,inplace = True)\n",
    "full.drop('Ticket',axis = 1,inplace = True)"
   ]
  },
  {
   "cell_type": "code",
   "execution_count": 58,
   "id": "70d49fca-3072-45b1-8dd6-e78c96bb3b04",
   "metadata": {},
   "outputs": [
    {
     "name": "stdout",
     "output_type": "stream",
     "text": [
      "PassengerId      int64\n",
      "Survived       float64\n",
      "Pclass           int64\n",
      "Sex              int64\n",
      "Age            float64\n",
      "SibSp            int64\n",
      "Parch            int64\n",
      "Fare           float64\n",
      "FamilySize       int64\n",
      "Single           int64\n",
      "Small            int64\n",
      "Large            int64\n",
      "Embarked_C       int64\n",
      "Embarked_Q       int64\n",
      "Embarked_S       int64\n",
      "Pclass_1         int64\n",
      "Pclass_2         int64\n",
      "Pclass_3         int64\n",
      "Master           int64\n",
      "Miss             int64\n",
      "Mr               int64\n",
      "Mrs              int64\n",
      "Officer          int64\n",
      "Royalty          int64\n",
      "Cabin_A          int64\n",
      "Cabin_B          int64\n",
      "Cabin_C          int64\n",
      "Cabin_D          int64\n",
      "Cabin_E          int64\n",
      "Cabin_F          int64\n",
      "Cabin_G          int64\n",
      "Cabin_T          int64\n",
      "Cabin_U          int64\n",
      "dtype: object\n"
     ]
    }
   ],
   "source": [
    "print(full.dtypes)"
   ]
  },
  {
   "cell_type": "code",
   "execution_count": 59,
   "id": "dab4fe83-ea30-48e1-b68d-2a9bfcb44e50",
   "metadata": {},
   "outputs": [
    {
     "data": {
      "text/plain": [
       "Survived       1.000000\n",
       "Mrs            0.344935\n",
       "Miss           0.332795\n",
       "Pclass_1       0.285904\n",
       "Small          0.279855\n",
       "Fare           0.257307\n",
       "Cabin_B        0.175095\n",
       "Embarked_C     0.168240\n",
       "Cabin_D        0.150716\n",
       "Cabin_E        0.145321\n",
       "Cabin_C        0.114652\n",
       "Pclass_2       0.093349\n",
       "Master         0.085221\n",
       "Parch          0.081629\n",
       "Cabin_F        0.057935\n",
       "Royalty        0.033391\n",
       "Cabin_A        0.022287\n",
       "FamilySize     0.016639\n",
       "Cabin_G        0.016040\n",
       "Embarked_Q     0.003650\n",
       "PassengerId   -0.005007\n",
       "Cabin_T       -0.026456\n",
       "Officer       -0.031316\n",
       "SibSp         -0.035322\n",
       "Age           -0.070323\n",
       "Large         -0.125147\n",
       "Embarked_S    -0.149683\n",
       "Single        -0.203367\n",
       "Cabin_U       -0.316912\n",
       "Pclass_3      -0.322308\n",
       "Pclass        -0.338481\n",
       "Sex           -0.543351\n",
       "Mr            -0.549199\n",
       "Name: Survived, dtype: float64"
      ]
     },
     "execution_count": 59,
     "metadata": {},
     "output_type": "execute_result"
    }
   ],
   "source": [
    "corrDf = full.corr()\n",
    "corrDf\n",
    "corrDf['Survived'].sort_values(ascending =False)"
   ]
  },
  {
   "cell_type": "code",
   "execution_count": 60,
   "id": "1e58ec9a-38b8-423c-8427-87820bc8293e",
   "metadata": {},
   "outputs": [],
   "source": [
    "train = pd.read_csv('train.csv')"
   ]
  },
  {
   "cell_type": "code",
   "execution_count": 61,
   "id": "ca955a8d-bc4d-4609-a996-bc13e109bbc9",
   "metadata": {},
   "outputs": [
    {
     "data": {
      "text/plain": [
       "Index(['PassengerId', 'Survived', 'Pclass', 'Name', 'Sex', 'Age', 'SibSp',\n",
       "       'Parch', 'Ticket', 'Fare', 'Cabin', 'Embarked'],\n",
       "      dtype='object')"
      ]
     },
     "execution_count": 61,
     "metadata": {},
     "output_type": "execute_result"
    }
   ],
   "source": [
    "train.columns"
   ]
  },
  {
   "cell_type": "code",
   "execution_count": 62,
   "id": "8c37a15b-1a06-4c4b-a5a1-d9a33bfc4f03",
   "metadata": {},
   "outputs": [],
   "source": [
    "features=['Pclass',  'Sex', 'Age', 'SibSp', 'Parch', 'Fare', 'Embarked']"
   ]
  },
  {
   "cell_type": "code",
   "execution_count": 63,
   "id": "f256f06c-ef55-4312-ab8d-80ac8b03384c",
   "metadata": {},
   "outputs": [
    {
     "data": {
      "text/plain": [
       "array([0, 1, 1, 1, 0, 0, 0, 0, 1, 1, 1, 1, 0, 0, 0, 1, 0, 1, 0, 1, 0, 1,\n",
       "       1, 1, 0, 1, 0, 0, 1, 0, 0, 1, 1, 0, 0, 0, 1, 0, 0, 1, 0, 0, 0, 1,\n",
       "       1, 0, 0, 1, 0, 0, 0, 0, 1, 1, 0, 1, 1, 0, 1, 0, 0, 1, 0, 0, 0, 1,\n",
       "       1, 0, 1, 0, 0, 0, 0, 0, 1, 0, 0, 0, 1, 1, 0, 1, 1, 0, 1, 1, 0, 0,\n",
       "       1, 0, 0, 0, 0, 0, 0, 0, 0, 1, 1, 0, 0, 0, 0, 0, 0, 0, 1, 1, 0, 1,\n",
       "       0, 0, 0, 0, 0, 0, 0, 0, 0, 0, 0, 0, 0, 1, 0, 1, 0, 1, 1, 0, 0, 0,\n",
       "       0, 1, 0, 0, 1, 0, 0, 0, 0, 1, 1, 0, 0, 0, 1, 0, 0, 0, 0, 1, 0, 0,\n",
       "       0, 0, 1, 0, 0, 0, 0, 1, 0, 0, 0, 1, 1, 0, 0, 0, 0, 0, 1, 0, 0, 0,\n",
       "       0, 0, 0, 0, 0, 0, 0, 1, 1, 0, 1, 1, 0, 0, 1, 0, 1, 1, 1, 1, 0, 0,\n",
       "       1, 0, 0, 0, 0, 0, 1, 0, 0, 1, 1, 1, 0, 1, 0, 0, 0, 1, 1, 0, 1, 0,\n",
       "       1, 0, 0, 0, 1, 0, 1, 0, 0, 0, 1, 0, 0, 1, 0, 0, 0, 1, 0, 0, 0, 1,\n",
       "       0, 0, 0, 0, 0, 1, 1, 0, 0, 0, 0, 0, 0, 1, 1, 1, 1, 1, 0, 1, 0, 0,\n",
       "       0, 0, 0, 1, 1, 1, 0, 1, 1, 0, 1, 1, 0, 0, 0, 1, 0, 0, 0, 1, 0, 0,\n",
       "       1, 0, 1, 1, 1, 1, 0, 0, 0, 0, 0, 0, 1, 1, 1, 1, 0, 1, 0, 1, 1, 1,\n",
       "       0, 1, 1, 1, 0, 0, 0, 1, 1, 0, 1, 1, 0, 0, 1, 1, 0, 1, 0, 1, 1, 1,\n",
       "       1, 0, 0, 0, 1, 0, 0, 1, 1, 0, 1, 1, 0, 0, 0, 1, 1, 1, 1, 0, 0, 0,\n",
       "       0, 0, 0, 0, 1, 0, 1, 1, 0, 0, 0, 0, 0, 0, 1, 1, 1, 1, 1, 0, 0, 0,\n",
       "       0, 1, 1, 0, 0, 0, 1, 1, 0, 1, 0, 0, 0, 1, 0, 1, 1, 1, 0, 1, 1, 0,\n",
       "       0, 0, 0, 1, 1, 0, 0, 0, 0, 0, 0, 1, 0, 0, 0, 0, 1, 0, 1, 0, 1, 1,\n",
       "       0, 0, 0, 0, 0, 0, 0, 0, 1, 1, 0, 1, 1, 1, 1, 0, 0, 1, 0, 1, 0, 0,\n",
       "       1, 0, 0, 1, 1, 1, 1, 1, 1, 1, 0, 0, 0, 1, 0, 1, 0, 1, 1, 0, 1, 0,\n",
       "       0, 0, 0, 0, 0, 0, 0, 1, 0, 0, 1, 1, 0, 0, 0, 0, 0, 1, 0, 0, 0, 1,\n",
       "       1, 0, 1, 0, 0, 1, 0, 0, 0, 0, 0, 0, 1, 0, 0, 0, 0, 0, 0, 0, 1, 0,\n",
       "       1, 1, 0, 1, 1, 0, 1, 1, 0, 0, 1, 0, 1, 0, 1, 0, 0, 1, 0, 0, 1, 0,\n",
       "       0, 0, 1, 0, 0, 1, 0, 1, 0, 1, 0, 1, 1, 0, 0, 1, 0, 0, 1, 1, 0, 1,\n",
       "       1, 0, 0, 1, 1, 0, 1, 0, 1, 1, 0, 0, 0, 0, 0, 0, 0, 0, 0, 1, 1, 1,\n",
       "       1, 1, 0, 0, 1, 1, 0, 1, 1, 1, 0, 0, 0, 1, 0, 1, 0, 0, 0, 1, 0, 0,\n",
       "       0, 0, 1, 0, 0, 1, 1, 0, 0, 0, 1, 0, 0, 1, 1, 1, 0, 0, 1, 0, 0, 1,\n",
       "       0, 0, 1, 0, 0, 1, 1, 0, 0, 0, 0, 1, 0, 0, 1, 0, 1, 0, 0, 1, 0, 0,\n",
       "       0, 0, 0, 1, 0, 1, 1, 1, 0, 1, 0, 1, 0, 1, 0, 1, 0, 0, 0, 0, 0, 0,\n",
       "       1, 0, 0, 0, 1, 0, 0, 0, 0, 1, 1, 0, 0, 1, 0, 0, 0, 1, 0, 1, 0, 1,\n",
       "       0, 0, 0, 0, 0, 0, 0, 1, 1, 1, 1, 0, 0, 0, 0, 1, 0, 0, 1, 1, 0, 0,\n",
       "       0, 0, 1, 1, 1, 1, 1, 0, 1, 0, 0, 0, 1, 1, 0, 0, 1, 0, 0, 0, 1, 0,\n",
       "       1, 1, 0, 0, 1, 0, 0, 0, 0, 0, 0, 1, 0, 0, 1, 0, 1, 0, 1, 0, 0, 1,\n",
       "       0, 0, 1, 1, 0, 0, 1, 1, 0, 0, 0, 1, 0, 0, 1, 1, 0, 1, 0, 0, 0, 0,\n",
       "       0, 0, 0, 0, 1, 0, 0, 1, 0, 1, 1, 1, 0, 0, 0, 0, 1, 0, 1, 0, 0, 0,\n",
       "       0, 0, 0, 0, 1, 1, 0, 0, 0, 1, 1, 1, 1, 0, 0, 0, 0, 1, 0, 0, 0, 0,\n",
       "       0, 0, 0, 0, 0, 0, 1, 1, 0, 1, 0, 0, 0, 1, 1, 1, 1, 1, 0, 0, 0, 1,\n",
       "       0, 0, 1, 1, 0, 0, 1, 0, 0, 0, 0, 0, 0, 1, 0, 0, 0, 1, 0, 1, 1, 1,\n",
       "       1, 0, 0, 0, 1, 0, 0, 1, 1, 0, 0, 1, 0, 1, 0, 0, 1, 1, 0, 0, 0, 1,\n",
       "       1, 0, 0, 0, 0, 0, 0, 1, 0, 1, 0])"
      ]
     },
     "execution_count": 63,
     "metadata": {},
     "output_type": "execute_result"
    }
   ],
   "source": [
    "data=train[features].values.copy()\n",
    "data\n",
    "#target\n",
    "target=train.Survived.values.copy()\n",
    "target"
   ]
  },
  {
   "cell_type": "code",
   "execution_count": 64,
   "id": "a5656ae5-b4c6-4e6b-aae8-95226541bd1b",
   "metadata": {},
   "outputs": [],
   "source": [
    "from sklearn.neighbors import KNeighborsClassifier\n",
    "from sklearn.model_selection import cross_val_score"
   ]
  },
  {
   "cell_type": "code",
   "execution_count": 65,
   "id": "8febb28a-1e18-4b15-8ec3-62824d158e8c",
   "metadata": {},
   "outputs": [],
   "source": [
    "features = ['Pclass', 'Age', 'Fare'] + [col for col in full.columns if 'Sex_' in col or 'Embarked_' in col or 'Cabin_' in col]\n",
    "data = full[features].iloc[:len(train)].values\n",
    "target = train['Survived'].values"
   ]
  },
  {
   "cell_type": "code",
   "execution_count": 66,
   "id": "9d3e8c44-8f01-44b3-8248-1b5c10529cd9",
   "metadata": {},
   "outputs": [
    {
     "data": {
      "image/png": "[encoded data removed]",
      "text/plain": [
       "<Figure size 640x480 with 1 Axes>"
      ]
     },
     "metadata": {},
     "output_type": "display_data"
    }
   ],
   "source": [
    "def para_tune(para,data,target):\n",
    "    clf =KNeighborsClassifier(n_neighbors = para)  # n_estimators 设置为parameter\n",
    "    score = np.mean(cross_val_score(clf,data,target,scoring=\"accuracy\"))\n",
    "    return score\n",
    "\n",
    "def accurate_curve(para_range,data,target,title):\n",
    "    score = []\n",
    "    for para in para_range:\n",
    "        score.append(para_tune(para,data,target))\n",
    "    plt.figure()\n",
    "    plt.title(title)\n",
    "    plt.xlabel(\"Number of Neighbors (k)\")\n",
    "    plt.ylabel(\"Accuracy\")\n",
    "    plt.grid()\n",
    "    plt.plot(para_range,score,\"o-\",color='b')\n",
    "    return plt\n",
    "g = accurate_curve([2,3,5,8,10],data,target,\"n_neighbors\")"
   ]
  },
  {
   "cell_type": "code",
   "execution_count": 67,
   "id": "7b0d31bd-0e48-459a-b406-c45257fc71a4",
   "metadata": {},
   "outputs": [
    {
     "data": {
      "image/png": "[encoded data removed]",
      "text/plain": [
       "<Figure size 640x480 with 1 Axes>"
      ]
     },
     "metadata": {},
     "output_type": "display_data"
    }
   ],
   "source": [
    "from sklearn.model_selection import learning_curve\n",
    "import matplotlib.pyplot as plt\n",
    "\n",
    "def plot_learning_curve(estimator, title, data, target, cv=5,\n",
    "                        train_sizes=np.linspace(.1, 1.0, 5)):\n",
    "    plt.figure()\n",
    "    plt.title(title) \n",
    "    plt.xlabel('train')\n",
    "    plt.ylabel('Accuracy') \n",
    "    train_sizes, train_scores, test_scores = learning_curve(estimator,data, target, cv=cv,\n",
    "                                                            train_sizes=train_sizes) \n",
    "    train_scores_mean = np.mean(train_scores, axis=1) \n",
    "    test_scores_mean = np.mean(test_scores, axis=1)\n",
    "    plt.grid() \n",
    "\n",
    "    plt.plot(train_sizes, train_scores_mean, 'o-', color='b',\n",
    "             label='traning score') \n",
    "    plt.plot(train_sizes, test_scores_mean, 'o-', color='r',\n",
    "             label='testing score') \n",
    "    plt.legend(loc='best')\n",
    "    return plt\n",
    "\n",
    "g = plot_learning_curve(KNeighborsClassifier(n_neighbors = 3), 'KNN',data, target) "
   ]
  },
  {
   "cell_type": "code",
   "execution_count": 68,
   "id": "898fcfe0-73a8-48f7-9648-40b546e30ab9",
   "metadata": {},
   "outputs": [],
   "source": [
    "from sklearn.ensemble import RandomForestClassifier"
   ]
  },
  {
   "cell_type": "code",
   "execution_count": 69,
   "id": "5fc13846-d9af-4c0f-be11-c98457bfe4a5",
   "metadata": {},
   "outputs": [
    {
     "data": {
      "image/png": "[encoded data removed]",
      "text/plain": [
       "<Figure size 640x480 with 1 Axes>"
      ]
     },
     "metadata": {},
     "output_type": "display_data"
    }
   ],
   "source": [
    "from sklearn.model_selection import learning_curve\n",
    "import matplotlib.pyplot as plt\n",
    "\n",
    "\n",
    "def plot_learning_curve(estimator, title, data, target, cv=5,\n",
    "                        train_sizes=np.linspace(.1, 1.0, 5)):\n",
    "    plt.figure()\n",
    "    plt.title(title) \n",
    "    plt.xlabel('train') \n",
    "    plt.ylabel(' Accuracy') \n",
    "    train_sizes, train_scores, test_scores = learning_curve(estimator,data, target, cv=cv,\n",
    "                                                            train_sizes=train_sizes) \n",
    "    train_scores_mean = np.mean(train_scores, axis=1) \n",
    "    train_scores_std = np.std(train_scores, axis=1) \n",
    "    test_scores_mean = np.mean(test_scores, axis=1)\n",
    "    test_scores_std = np.std(test_scores, axis=1)\n",
    "    plt.grid()\n",
    "\n",
    "    plt.plot(train_sizes, train_scores_mean, 'o-', color='b',\n",
    "             label='traning score') \n",
    "    plt.plot(train_sizes, test_scores_mean, 'o-', color='r',\n",
    "             label='testing score') \n",
    "    plt.legend(loc='best')\n",
    "    return plt\n",
    "\n",
    "g = plot_learning_curve(RandomForestClassifier(), ' Random forest',data,target)"
   ]
  },
  {
   "cell_type": "code",
   "execution_count": 70,
   "id": "4228df02-390e-46d0-881d-97ed377d0d2a",
   "metadata": {},
   "outputs": [
    {
     "data": {
      "image/png": "[encoded data removed]",
      "text/plain": [
       "<Figure size 640x480 with 1 Axes>"
      ]
     },
     "metadata": {},
     "output_type": "display_data"
    }
   ],
   "source": [
    "def para_tune(para,data,target):\n",
    "    clf = RandomForestClassifier(n_estimators=para)  \n",
    "    score = np.mean(cross_val_score(clf,data,target,scoring=\"accuracy\"))\n",
    "    return score\n",
    "\n",
    "def accurate_curve(para_range,data,target,title):\n",
    "    score = []\n",
    "    for para in para_range:\n",
    "        score.append(para_tune(para,data,target))\n",
    "    plt.figure()\n",
    "    plt.title(title)\n",
    "    plt.xlabel(\"boundaries\")\n",
    "    plt.ylabel(\"Accuracy\")\n",
    "    plt.grid()\n",
    "    plt.plot(para_range,score,\"o-\",color='b')\n",
    "    return plt\n",
    "g = accurate_curve([2,5,70,90,150],data,target,\"n_estimator\")"
   ]
  },
  {
   "cell_type": "code",
   "execution_count": 71,
   "id": "9b185d99-7407-4bc0-a2e8-26fd15035e9d",
   "metadata": {},
   "outputs": [
    {
     "data": {
      "image/png": "[encoded data removed]",
      "text/plain": [
       "<Figure size 640x480 with 1 Axes>"
      ]
     },
     "metadata": {},
     "output_type": "display_data"
    }
   ],
   "source": [
    "def para_tune(para, data,target):\n",
    "    clf = RandomForestClassifier(n_estimators=300, max_depth=para)\n",
    "    score = np.mean(cross_val_score(clf, data,target, scoring='accuracy'))\n",
    "    return score\n",
    "\n",
    "def accurate_curve(para_range, data,target, title):\n",
    "    score = []\n",
    "    for para in para_range:\n",
    "        score.append(para_tune(para, data,target))\n",
    "    plt.figure()\n",
    "    plt.title(title)\n",
    "    plt.xlabel('boundaries')\n",
    "    plt.ylabel('Accurary')\n",
    "    plt.grid()\n",
    "    plt.plot(para_range, score, 'o-',color='b')\n",
    "    return plt\n",
    "\n",
    "g = accurate_curve([5, 15, 25, 35, 45], data,target, 'max_depth')"
   ]
  },
  {
   "cell_type": "code",
   "execution_count": null,
   "id": "bfc8f9a5-5c91-4505-b5ec-cdf07f3150c4",
   "metadata": {},
   "outputs": [],
   "source": [
    "from sklearn.model_selection import GridSearchCV\n",
    "\n",
    "def plot_learning_curve(estimator, title, data,target, cv=5,\n",
    "                        train_sizes=np.linspace(.1, 1.0, 5)):\n",
    "    plt.figure()\n",
    "    plt.title(title) \n",
    "    plt.xlabel('train') \n",
    "    plt.ylabel('accurary')\n",
    "    train_sizes, train_scores, test_scores = learning_curve(estimator,data,target, cv=cv,\n",
    "                                                            train_sizes=train_sizes) \n",
    "    train_scores_mean = np.mean(train_scores, axis=1) \n",
    "    test_scores_mean = np.mean(test_scores, axis=1)\n",
    "    plt.grid() \n",
    "\n",
    "    plt.plot(train_sizes, train_scores_mean, 'o-', color='b',\n",
    "             label='traning score') \n",
    "    plt.plot(train_sizes, test_scores_mean, 'o-', color='r',\n",
    "             label='testing score') \n",
    "    plt.legend(loc='best')\n",
    "    return plt\n",
    "clf = RandomForestClassifier()\n",
    "para_grid = {'max_depth': [5], 'n_estimators': [90], 'max_features': [1, 5, 10], 'criterion': ['gini', 'entropy'],\n",
    "             'min_samples_split': [2, 5, 10], 'min_samples_leaf': [1, 5, 10]}\n",
    "gs = GridSearchCV(clf, param_grid=para_grid, cv=3, scoring='accuracy')\n",
    "gs.fit(data,target)\n",
    "gs_best = gs.best_estimator_ \n",
    "gs.best_score_ \n",
    "g = plot_learning_curve(gs_best, 'ramdon forest',data,target)"
   ]
  },
  {
   "cell_type": "code",
   "execution_count": null,
   "id": "e30710c3-e29f-4595-b31f-b2be4fd589da",
   "metadata": {},
   "outputs": [],
   "source": [
    "from sklearn.model_selection import StratifiedKFold"
   ]
  },
  {
   "cell_type": "code",
   "execution_count": null,
   "id": "18298d41-076a-4fea-87cf-3b2a7d8d1f4d",
   "metadata": {},
   "outputs": [],
   "source": [
    "skf= StratifiedKFold(n_splits=5)"
   ]
  },
  {
   "cell_type": "code",
   "execution_count": null,
   "id": "b0834d50-8ef7-477f-be18-52b62fa10a3d",
   "metadata": {},
   "outputs": [],
   "source": [
    "for train,test in skf.split(data,target):\n",
    "    x_train=data[train]\n",
    "    x_test=data[test]\n",
    "    y_train=target[train]\n",
    "    y_test=target[test]"
   ]
  },
  {
   "cell_type": "code",
   "execution_count": null,
   "id": "2170fdec-8441-4913-8f03-f6b8e4b03a46",
   "metadata": {},
   "outputs": [],
   "source": [
    "from sklearn.ensemble import RandomForestRegressor \n",
    "from sklearn.feature_selection import SelectFromModel \n",
    "clf=RandomForestRegressor(n_estimators=50) \n",
    "clf.fit(x_train,y_train)\n",
    " \n",
    "features = pd.DataFrame() \n",
    "features['feature'] = ['Pclass','Sex_male','Sex_female','Age','Sibsp','Parch','Fare','Embarked_C','Embarked_Q','Embarked_S','Cabin_A','Cabin_B','Cabin_C','Cabin_D','Cabin_U'] \n",
    "features['importance'] = clf.feature_importances_ \n",
    "features.sort_values( by=['importance'],ascending=True,inplace=True) \n",
    "features.set_index('feature',inplace=True)\n",
    "features.plot(kind='bar', figsize=(10, 6), fontsize=10, color='g')\n",
    "plt.xlabel(\"Feature\")\n",
    "plt.ylabel(\"Importance\")\n",
    "plt.title(\"Feature Importance in Random Forest\")\n",
    "plt.show()"
   ]
  },
  {
   "cell_type": "code",
   "execution_count": null,
   "id": "58cdc623-1d71-4b84-9a9c-b1513180b047",
   "metadata": {},
   "outputs": [],
   "source": [
    "print(f\"Number of features: {len(features)}\")"
   ]
  },
  {
   "cell_type": "code",
   "execution_count": null,
   "id": "ec95a8a5-9a87-4428-8695-b380a1f8b839",
   "metadata": {},
   "outputs": [],
   "source": [
    "print(f\"Feature importances length: {len(clf.feature_importances_)}\")"
   ]
  },
  {
   "cell_type": "code",
   "execution_count": null,
   "id": "65eee4c7-8c27-49a2-bafa-41bdce06bc4b",
   "metadata": {},
   "outputs": [],
   "source": [
    "from sklearn.linear_model import LogisticRegression"
   ]
  },
  {
   "cell_type": "code",
   "execution_count": null,
   "id": "e3398be0-ddbf-41fc-9a27-9e8b8cc673ae",
   "metadata": {},
   "outputs": [],
   "source": [
    "model = LogisticRegression()"
   ]
  },
  {
   "cell_type": "code",
   "execution_count": null,
   "id": "cc2ad082-2f48-4599-9247-815a584c13f9",
   "metadata": {},
   "outputs": [],
   "source": [
    "import numpy as np\n",
    "import matplotlib.pyplot as plt\n",
    "def plot_learning_curve(estimator, title, data,target, ylim=None, cv=None, n_jobs=1, \n",
    "                        train_sizes=np.linspace(.1, 1.0, 5), verbose=0, plot=True):\n",
    "    train_sizes, train_scores, test_scores = learning_curve(\n",
    "        estimator, data,target, cv=cv, n_jobs=n_jobs, train_sizes=train_sizes, verbose=verbose)\n",
    "    train_scores_mean = np.mean(train_scores, axis=1)\n",
    "    test_scores_mean = np.mean(test_scores, axis=1)\n",
    "    if plot:\n",
    "        plt.figure() \n",
    "        plt.title(title)\n",
    "        if ylim is not None:\n",
    "            plt.ylim(*ylim)\n",
    "        plt.xlabel(u\"train\")\n",
    "        plt.ylabel(u\"accurary\")\n",
    "        plt.gca().invert_yaxis()\n",
    "        plt.grid()\n",
    "        plt.plot(train_sizes, train_scores_mean, 'o-', color=\"b\", label=\"training score\")\n",
    "        plt.plot(train_sizes, test_scores_mean, 'o-', color=\"r\", label=\"testing score\")\n",
    "        plt.legend(loc=\"best\")\n",
    "        plt.draw()\n",
    "        plt.gca().invert_yaxis()\n",
    "        plt.show()\n",
    "plot_learning_curve(model, \"logicistRegression\",data,target)"
   ]
  },
  {
   "cell_type": "code",
   "execution_count": null,
   "id": "c8de0e40-dd66-49c9-984f-6c7bbf9c5f0c",
   "metadata": {},
   "outputs": [],
   "source": [
    "from sklearn.svm import SVC, LinearSVC\n",
    "from sklearn.model_selection import cross_val_score"
   ]
  },
  {
   "cell_type": "code",
   "execution_count": null,
   "id": "e8f6d9c5-4865-4f67-b1c5-3d12b520b198",
   "metadata": {},
   "outputs": [],
   "source": [
    "model1= SVC()"
   ]
  },
  {
   "cell_type": "code",
   "execution_count": null,
   "id": "5fbd4c42-2f91-4dd9-bcbc-3f548dfbf983",
   "metadata": {},
   "outputs": [],
   "source": [
    "import numpy as np\n",
    "import matplotlib.pyplot as plt\n",
    "def plot_learning_curve(estimator, title, data,target, ylim=None, cv=None, n_jobs=1, \n",
    "                        train_sizes=np.linspace(.1, 1.0, 5), verbose=0, plot=True):\n",
    "    train_sizes, train_scores, test_scores = learning_curve(\n",
    "        estimator, data,target, cv=cv, n_jobs=n_jobs, train_sizes=train_sizes, verbose=verbose)\n",
    "    train_scores_mean = np.mean(train_scores, axis=1)\n",
    "    test_scores_mean = np.mean(test_scores, axis=1)\n",
    "   \n",
    "    if plot:\n",
    "        plt.figure()\n",
    "        plt.title(title)\n",
    "        if ylim is not None:\n",
    "            plt.ylim(*ylim)\n",
    "        plt.xlabel(u\"train\")\n",
    "        plt.ylabel(u\"accurary\")\n",
    "        plt.gca().invert_yaxis()\n",
    "        plt.grid()\n",
    "        plt.plot(train_sizes, train_scores_mean, 'o-', color=\"g\", label=\"training score\")\n",
    "        plt.plot(train_sizes, test_scores_mean, 'o-', color=\"r\", label=\"testing score\")\n",
    "        plt.legend(loc=\"best\")\n",
    "        plt.draw()\n",
    "        plt.gca().invert_yaxis()\n",
    "        plt.show()\n",
    "plot_learning_curve(model1, \"SVC\",data,target)"
   ]
  },
  {
   "cell_type": "code",
   "execution_count": null,
   "id": "4b5c0ab0-f0aa-4881-addb-23e78063948d",
   "metadata": {},
   "outputs": [],
   "source": [
    "skf= StratifiedKFold(n_splits=5)"
   ]
  },
  {
   "cell_type": "code",
   "execution_count": null,
   "id": "cb40044a-b6ee-4edf-b9dd-c11b729d6272",
   "metadata": {},
   "outputs": [],
   "source": [
    "from sklearn.linear_model import LogisticRegression #logistic regression\n",
    "from sklearn import svm #support vector Machine\n",
    "from sklearn.ensemble import RandomForestClassifier #Random Forest\n",
    "from sklearn.neighbors import KNeighborsClassifier #KNN\n",
    "from sklearn.naive_bayes import GaussianNB #Naive bayes\n",
    "from sklearn.tree import DecisionTreeClassifier #Decision Tree\n",
    "from sklearn.model_selection import train_test_split \n",
    "from sklearn import metrics \n",
    "from sklearn.metrics import confusion_matrix "
   ]
  },
  {
   "cell_type": "code",
   "execution_count": null,
   "id": "deaf5f13-342e-4e25-80b2-1777eb69634d",
   "metadata": {},
   "outputs": [],
   "source": [
    "from sklearn.model_selection import KFold #for K-fold cross validation\n",
    "from sklearn.model_selection import cross_val_score #score evaluation\n",
    "from sklearn.model_selection import cross_val_predict"
   ]
  },
  {
   "cell_type": "code",
   "execution_count": null,
   "id": "f1af7385-bb2d-4a07-a9c9-f2b4d1795d28",
   "metadata": {},
   "outputs": [],
   "source": [
    "import seaborn as sns"
   ]
  },
  {
   "cell_type": "code",
   "execution_count": null,
   "id": "27d0f99b-cdb7-4298-a0d7-d428e775dec9",
   "metadata": {},
   "outputs": [],
   "source": [
    "f,ax=plt.subplots(2,2,figsize=(12,10))\n",
    "y_pred = cross_val_predict(svm.SVC(kernel='rbf'),data,target,cv=10)\n",
    "sns.heatmap(confusion_matrix(target,y_pred),ax=ax[0,0],annot=True,fmt='2.0f',cmap='GnBu')\n",
    "ax[0,0].set_title('confusion SVC')\n",
    "y_pred = cross_val_predict(KNeighborsClassifier(n_neighbors=9),data,target,cv=10)\n",
    "sns.heatmap(confusion_matrix(target,y_pred),ax=ax[0,1],annot=True,fmt='2.0f',cmap='coolwarm')\n",
    "ax[0,1].set_title('confusion KNN')\n",
    "y_pred = cross_val_predict(RandomForestClassifier(n_estimators=100),data,target,cv=10)\n",
    "sns.heatmap(confusion_matrix(target,y_pred),ax=ax[1,0],annot=True,fmt='2.0f',cmap='OrRd')\n",
    "ax[1,0].set_title('confusion randomforest')\n",
    "y_pred = cross_val_predict(LogisticRegression(),data,target,cv=10)\n",
    "sns.heatmap(confusion_matrix(target,y_pred),ax=ax[1,1],annot=True,fmt='2.0f',cmap='summer')\n",
    "ax[1,1].set_title('confusion logisticregression')"
   ]
  },
  {
   "cell_type": "code",
   "execution_count": null,
   "id": "0a692dde-9611-4da9-8ccd-ae109834fdee",
   "metadata": {},
   "outputs": [],
   "source": [
    "import numpy as np\n",
    "import pandas as pd\n",
    "import seaborn as sns\n",
    "import matplotlib.pylab as plt\n",
    "from sklearn.preprocessing import StandardScaler\n",
    "from sklearn.linear_model import LogisticRegression\n",
    "from sklearn.metrics import confusion_matrix\n",
    "from sklearn.metrics import classification_report"
   ]
  },
  {
   "cell_type": "code",
   "execution_count": null,
   "id": "b4a7de3d-c3c8-4b87-a9be-052bed7b9368",
   "metadata": {},
   "outputs": [],
   "source": [
    "data= pd.read_csv(\"train.csv\")"
   ]
  },
  {
   "cell_type": "code",
   "execution_count": null,
   "id": "b9014516-dd4d-48ab-aec0-1e23a57d2073",
   "metadata": {},
   "outputs": [],
   "source": [
    "\n",
    "data= data.drop(labels=['PassengerId', 'Name', 'Ticket', 'Cabin'], axis=1)\n",
    "data.head()"
   ]
  },
  {
   "cell_type": "code",
   "execution_count": null,
   "id": "67f47722-506e-433f-b0c7-fcb4fe7f8050",
   "metadata": {},
   "outputs": [],
   "source": [
    "data= data.dropna()"
   ]
  },
  {
   "cell_type": "code",
   "execution_count": null,
   "id": "f3b97011-0b89-4193-8467-27ebd0b4a0c7",
   "metadata": {},
   "outputs": [],
   "source": [
    "data_dummy = pd.get_dummies(data[['Sex', 'Embarked']])"
   ]
  },
  {
   "cell_type": "code",
   "execution_count": null,
   "id": "ace86f07-8396-4748-9f2f-dde1d8264589",
   "metadata": {},
   "outputs": [],
   "source": [
    "data_conti = pd.DataFrame(data,columns=['Survived', 'Pclass', 'Age', 'SibSp', 'Parch', 'Fare'], index=data.index)\n",
    "data = data_conti.join(data_dummy)"
   ]
  },
  {
   "cell_type": "code",
   "execution_count": null,
   "id": "407ff862-f75f-47d7-b7a9-6c810ad1166e",
   "metadata": {},
   "outputs": [],
   "source": [
    "data.head()"
   ]
  },
  {
   "cell_type": "code",
   "execution_count": null,
   "id": "294462a6-531a-41e3-8819-24f103044014",
   "metadata": {},
   "outputs": [],
   "source": [
    "from sklearn.model_selection import  train_test_split"
   ]
  },
  {
   "cell_type": "code",
   "execution_count": null,
   "id": "c03cfcad-aa91-47cc-abdd-c7f12584c4fe",
   "metadata": {},
   "outputs": [],
   "source": [
    "X = data.iloc[:, 1:]\n",
    "y = data.iloc[:, 0]\n",
    "X_train, X_test, y_train, y_test = train_test_split(X, y, test_size=0.3, random_state=0)"
   ]
  },
  {
   "cell_type": "code",
   "execution_count": null,
   "id": "8c729641-75d8-43ee-8778-a69aba99689f",
   "metadata": {},
   "outputs": [],
   "source": [
    "from sklearn.model_selection import cross_val_score \n",
    "from sklearn.model_selection import cross_val_predict"
   ]
  },
  {
   "cell_type": "code",
   "execution_count": null,
   "id": "46c772ef-7474-45ab-a038-c8f1cc26aeb8",
   "metadata": {},
   "outputs": [],
   "source": [
    "\n",
    "classifier = LogisticRegression(random_state=0)\n",
    "classifier.fit(X_train, y_train)\n",
    "y_pred = classifier.predict(X_test)\n",
    "print(classification_report(y_test, y_pred))"
   ]
  },
  {
   "cell_type": "code",
   "execution_count": null,
   "id": "f8d1b5af-ffd5-4cb4-81ef-d2a2070c992f",
   "metadata": {},
   "outputs": [],
   "source": [
    "from sklearn.svm import SVC, LinearSVC"
   ]
  },
  {
   "cell_type": "code",
   "execution_count": null,
   "id": "92ba9a0c-383a-41c4-b1bd-0f82cd670bca",
   "metadata": {},
   "outputs": [],
   "source": [
    "\n",
    "classifier1 = SVC()\n",
    "classifier1.fit(X_train, y_train)\n",
    "y_pred = classifier1.predict(X_test)\n",
    "print(classification_report(y_test, y_pred))"
   ]
  },
  {
   "cell_type": "code",
   "execution_count": null,
   "id": "f8784fc4-d3ee-415e-bd2f-6e0cbe6db01e",
   "metadata": {},
   "outputs": [],
   "source": [
    "from sklearn.neighbors import KNeighborsClassifier\n",
    "\n",
    "classifier2=KNeighborsClassifier(n_neighbors = 3)\n",
    "classifier2.fit(X_train, y_train)\n",
    "y_pred = classifier2.predict(X_test)\n",
    "print(classification_report(y_test, y_pred))"
   ]
  },
  {
   "cell_type": "code",
   "execution_count": null,
   "id": "09a64f26-5dcc-402c-b98a-571a167484c3",
   "metadata": {},
   "outputs": [],
   "source": [
    "from sklearn.ensemble import RandomForestClassifier"
   ]
  },
  {
   "cell_type": "code",
   "execution_count": null,
   "id": "591d0db1-624e-4ad1-8518-b14a0c9063d6",
   "metadata": {},
   "outputs": [],
   "source": [
    "\n",
    "classifier3=RandomForestClassifier()\n",
    "classifier3.fit(X_train, y_train)\n",
    "y_pred =classifier3.predict(X_test)\n",
    "print(classification_report(y_test, y_pred))"
   ]
  },
  {
   "cell_type": "code",
   "execution_count": null,
   "id": "78f01ca9-aea8-411f-a5ed-7b36107ad605",
   "metadata": {},
   "outputs": [],
   "source": []
  }
 ],
 "metadata": {
  "kernelspec": {
   "display_name": "Python 3 (ipykernel)",
   "language": "python",
   "name": "python3"
  },
  "language_info": {
   "codemirror_mode": {
    "name": "ipython",
    "version": 3
   },
   "file_extension": ".py",
   "mimetype": "text/x-python",
   "name": "python",
   "nbconvert_exporter": "python",
   "pygments_lexer": "ipython3",
   "version": "3.11.7"
  }
 },
 "nbformat": 4,
 "nbformat_minor": 5
}
